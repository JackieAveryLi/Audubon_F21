{
 "cells": [
  {
   "attachments": {},
   "cell_type": "markdown",
   "metadata": {},
   "source": [
    "# Demo"
   ]
  },
  {
   "attachments": {},
   "cell_type": "markdown",
   "metadata": {},
   "source": [
    "## Importing required libraries"
   ]
  },
  {
   "cell_type": "code",
   "execution_count": 101,
   "metadata": {},
   "outputs": [],
   "source": [
    "import torch\n",
    "from PIL import Image\n",
    "from torchvision.transforms import transforms \n",
    "import pandas as pd\n",
    "from torchvision.models import resnet50\n",
    "import torch.nn as nn"
   ]
  },
  {
   "cell_type": "code",
   "execution_count": 102,
   "metadata": {},
   "outputs": [],
   "source": [
    "torch.manual_seed(2023)\n",
    "device = torch.device('cuda') if torch.cuda.is_available() else torch.device('cpu')\n",
    "detector_path = \"data/models/bird_only.pth\"\n",
    "img_path = 'data/tiled_small_subset/DJI_20210517104803_0029_0_0.jpg'\n",
    "num_class = 23"
   ]
  },
  {
   "attachments": {},
   "cell_type": "markdown",
   "metadata": {},
   "source": [
    "## Detection"
   ]
  },
  {
   "cell_type": "code",
   "execution_count": 103,
   "metadata": {},
   "outputs": [
    {
     "name": "stdout",
     "output_type": "stream",
     "text": [
      "[{'boxes': tensor([[376.5843, 513.5974, 437.9249, 573.2222],\n",
      "        [  0.0000, 292.9141,  23.3197, 377.2767],\n",
      "        [ 68.1124, 465.9175, 143.2446, 495.8057]], grad_fn=<StackBackward0>), 'labels': tensor([1, 1, 1]), 'scores': tensor([0.9873, 0.1312, 0.0755], grad_fn=<IndexBackward0>)}]\n"
     ]
    }
   ],
   "source": [
    "# Load trained bird detector\n",
    "detector = torch.load(detector_path, map_location=device)\n",
    "detector.eval()\n",
    "\n",
    "# Upload and transform image \n",
    "transformer = transforms.Compose([transforms.PILToTensor(),\n",
    "                                  transforms.ConvertImageDtype(torch.float)])\n",
    "\n",
    "image = Image.open(img_path).convert('RGB')\n",
    "image_tensor = transformer(image)\n",
    "image_tensor = image_tensor.unsqueeze_(0)  # So the image is treated as a batch \n",
    "\n",
    "# Detect birds in image\n",
    "boxes = detector(image_tensor)\n",
    "print(boxes)\n",
    "\n",
    "# Have a table of coornidates of the bounding boxes\n",
    "boxes_array = boxes[0]['boxes'].detach().numpy()\n",
    "boxes_df = pd.DataFrame(boxes_array, columns=['x1', 'y1', 'x2', 'y2'])\n",
    "\n",
    "# Extract the bounding boxes from the image\n",
    "bird_images = []\n",
    "for box in boxes_array:\n",
    "    x1, y1, x2, y2 = box\n",
    "    bird_images.append(image.crop((x1, y1, x2, y2)))"
   ]
  },
  {
   "attachments": {},
   "cell_type": "markdown",
   "metadata": {},
   "source": [
    "## Classification"
   ]
  },
  {
   "cell_type": "code",
   "execution_count": 108,
   "metadata": {},
   "outputs": [
    {
     "name": "stdout",
     "output_type": "stream",
     "text": [
      "           x1          y1          x2          y2  label     score\n",
      "0  376.584320  513.597412  437.924866  573.222229      1  0.584811\n",
      "1    0.000000  292.914093   23.319675  377.276703     21  0.668366\n",
      "2   68.112427  465.917542  143.244629  495.805725     13  0.711072\n",
      "Number of birds detected: 3\n"
     ]
    }
   ],
   "source": [
    "# Load bird classifier\n",
    "resnet = resnet50(weights='DEFAULT')\n",
    "resnet.fc = nn.Linear(resnet.fc.in_features, num_class)\n",
    "resnet.eval()\n",
    "\n",
    "# Transform images to be compatible with resnet\n",
    "resnet_transormer = transforms.Compose([transforms.Resize((80, 80)),\n",
    "                                        transforms.PILToTensor(),\n",
    "                                        transforms.ConvertImageDtype(torch.float)])\n",
    "                                            \n",
    "bird_tensors = torch.stack([resnet_transormer(bird_image) for bird_image in bird_images])\n",
    "\n",
    "# Classify birds\n",
    "label_scores = resnet(bird_tensors)\n",
    "labels = []\n",
    "scores = []\n",
    "for label_score in label_scores:\n",
    "    label = label_score.argmax().item()\n",
    "    score = label_score.max().item()\n",
    "    labels.append(label)\n",
    "    scores.append(score)\n",
    "    # print(label, score)\n",
    "\n",
    "# Add labels and scores to the table\n",
    "boxes_df['label'] = labels\n",
    "boxes_df['score'] = scores\n",
    "print(boxes_df)\n",
    "print(f\"Number of birds detected: {len(boxes_df)}\")"
   ]
  },
  {
   "cell_type": "code",
   "execution_count": null,
   "metadata": {},
   "outputs": [],
   "source": []
  }
 ],
 "metadata": {
  "kernelspec": {
   "display_name": "audubon",
   "language": "python",
   "name": "python3"
  },
  "language_info": {
   "codemirror_mode": {
    "name": "ipython",
    "version": 3
   },
   "file_extension": ".py",
   "mimetype": "text/x-python",
   "name": "python",
   "nbconvert_exporter": "python",
   "pygments_lexer": "ipython3",
   "version": "3.8.16"
  },
  "orig_nbformat": 4
 },
 "nbformat": 4,
 "nbformat_minor": 2
}
