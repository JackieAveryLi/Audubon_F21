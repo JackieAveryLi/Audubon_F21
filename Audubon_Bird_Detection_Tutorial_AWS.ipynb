{
 "cells": [
  {
   "cell_type": "markdown",
   "metadata": {
    "id": "BwP9RpOZ21zr"
   },
   "source": [
    "# AWS bird detection\n",
    "\n",
    "We thank F21 semesters student's for the base code\n",
    "\n",
    "Authors: Wenbin Li\n",
    "\n",
    "This jupyter notebook is meant to run on AWS sagemaker studio. All the file location should be on S3 bucket or any other bucket service."
   ]
  },
  {
   "cell_type": "markdown",
   "metadata": {
    "id": "Yj5EpyIO21Fp"
   },
   "source": [
    "## Installation and setup for Colab\n",
    "\n",
    "Run the next cells to setup Colab with the necessary requirements. We clone the Github repo with the developed code, and install dependencies, namely Detectron2. "
   ]
  },
  {
   "cell_type": "code",
   "execution_count": 1,
   "metadata": {},
   "outputs": [
    {
     "name": "stdout",
     "output_type": "stream",
     "text": [
      "Requirement already satisfied: scikit-image in /opt/conda/lib/python3.6/site-packages (0.17.2)\n",
      "Requirement already satisfied: PyWavelets>=1.1.1 in /opt/conda/lib/python3.6/site-packages (from scikit-image) (1.1.1)\n",
      "Requirement already satisfied: imageio>=2.3.0 in /opt/conda/lib/python3.6/site-packages (from scikit-image) (2.13.3)\n",
      "Requirement already satisfied: pillow!=7.1.0,!=7.1.1,>=4.3.0 in /opt/conda/lib/python3.6/site-packages (from scikit-image) (8.3.2)\n",
      "Requirement already satisfied: numpy>=1.15.1 in /opt/conda/lib/python3.6/site-packages (from scikit-image) (1.19.1)\n",
      "Requirement already satisfied: matplotlib!=3.0.0,>=2.0.0 in /opt/conda/lib/python3.6/site-packages (from scikit-image) (3.3.4)\n",
      "Requirement already satisfied: tifffile>=2019.7.26 in /opt/conda/lib/python3.6/site-packages (from scikit-image) (2020.9.3)\n",
      "Requirement already satisfied: networkx>=2.0 in /opt/conda/lib/python3.6/site-packages (from scikit-image) (2.2)\n",
      "Requirement already satisfied: scipy>=1.0.1 in /opt/conda/lib/python3.6/site-packages (from scikit-image) (1.2.2)\n",
      "Requirement already satisfied: cycler>=0.10 in /opt/conda/lib/python3.6/site-packages (from matplotlib!=3.0.0,>=2.0.0->scikit-image) (0.11.0)\n",
      "Requirement already satisfied: pyparsing!=2.0.4,!=2.1.2,!=2.1.6,>=2.0.3 in /opt/conda/lib/python3.6/site-packages (from matplotlib!=3.0.0,>=2.0.0->scikit-image) (3.0.6)\n",
      "Requirement already satisfied: kiwisolver>=1.0.1 in /opt/conda/lib/python3.6/site-packages (from matplotlib!=3.0.0,>=2.0.0->scikit-image) (1.3.1)\n",
      "Requirement already satisfied: python-dateutil>=2.1 in /opt/conda/lib/python3.6/site-packages (from matplotlib!=3.0.0,>=2.0.0->scikit-image) (2.8.2)\n",
      "Requirement already satisfied: decorator>=4.3.0 in /opt/conda/lib/python3.6/site-packages (from networkx>=2.0->scikit-image) (5.1.1)\n",
      "Requirement already satisfied: six>=1.5 in /opt/conda/lib/python3.6/site-packages (from python-dateutil>=2.1->matplotlib!=3.0.0,>=2.0.0->scikit-image) (1.16.0)\n",
      "\u001b[33mWARNING: Running pip as the 'root' user can result in broken permissions and conflicting behaviour with the system package manager. It is recommended to use a virtual environment instead: https://pip.pypa.io/warnings/venv\u001b[0m\n"
     ]
    }
   ],
   "source": [
    "!pip install scikit-image"
   ]
  },
  {
   "cell_type": "code",
   "execution_count": 2,
   "metadata": {
    "id": "3PFNsJ_Tek3A"
   },
   "outputs": [
    {
     "name": "stderr",
     "output_type": "stream",
     "text": [
      "/opt/conda/lib/python3.6/site-packages/ipykernel_launcher.py:12: TqdmExperimentalWarning: Using `tqdm.autonotebook.tqdm` in notebook mode. Use `tqdm.tqdm` instead to force console mode (e.g. in jupyter console)\n",
      "  if sys.path[0] == '':\n"
     ]
    }
   ],
   "source": [
    "# Import useful libraries\n",
    "import os, sys, shutil, glob\n",
    "import numpy as np\n",
    "import matplotlib.pyplot as plt \n",
    "import pandas as pd \n",
    "import cv2\n",
    "from skimage import io  \n",
    "from datetime import datetime\n",
    "from distutils.dir_util import copy_tree\n",
    "import boto3\n",
    "import seaborn as sns\n",
    "from tqdm.autonotebook import tqdm\n",
    "from PIL import Image, ImageDraw\n",
    "import csv\n",
    "import random\n",
    "import boto3\n"
   ]
  },
  {
   "cell_type": "code",
   "execution_count": null,
   "metadata": {},
   "outputs": [],
   "source": [
    "! ls"
   ]
  },
  {
   "cell_type": "code",
   "execution_count": 3,
   "metadata": {
    "id": "ZK9R5DgH2jBr"
   },
   "outputs": [],
   "source": [
    "# This cell only excecutes if you're running on Colab. \n",
    "# if 'google.colab' in sys.modules:\n",
    "#   from google.colab import drive \n",
    "#   drive.mount('/gdrive/') # Mount Google Drive! \n",
    "\n",
    "  # Clone Audubon bird detection Github repo \n",
    "#   !git clone https://github.com/RiceD2KLab/Audubon_F21.git \n",
    "\n",
    "  # Install dependencies \n",
    "  !pip install -qq pyyaml==5.1\n",
    "  # This is the current pytorch version on Colab. Uncomment this if Colab changes its pytorch version\n",
    "  !pip install -qq torch==1.9.0+cu102 torchvision==0.10.0+cu102 -f https://download.pytorch.org/whl/torch_stable.html\n",
    "\n",
    "  # Install detectron2 that matches the above pytorch version\n",
    "  # See https://detectron2.readthedocs.io/tutorials/install.html for instructions\n",
    "  !pip install -qq detectron2 -f https://dl.fbaipublicfiles.com/detectron2/wheels/cu102/torch1.9/index.html\n",
    "  # exit(0)  # After installation, you need to \"restart runtime\" in Colab. This line can also restart runtime\n",
    "\n",
    "  !pip install -qq wandb"
   ]
  },
  {
   "cell_type": "code",
   "execution_count": 4,
   "metadata": {},
   "outputs": [],
   "source": [
    "import detectron2\n",
    "from detectron2.utils.logger import setup_logger\n"
   ]
  },
  {
   "cell_type": "markdown",
   "metadata": {
    "id": "gHHm2ikxC99D"
   },
   "source": [
    "## Data exploration & wrangling\n",
    "\n",
    "The following cells contain the data exploration and wrangling modules of the data science pipeline. \n"
   ]
  },
  {
   "cell_type": "markdown",
   "metadata": {
    "id": "9m81HuKnD-J8"
   },
   "source": [
    "### Load dataset from Google Drive \n",
    "\n",
    "The following cell unzips a folder stored on Google Drive ontop the Colab machine. You can modify this cell to load your drone images onto the Colab instance! \n"
   ]
  },
  {
   "cell_type": "code",
   "execution_count": null,
   "metadata": {},
   "outputs": [],
   "source": [
    "# s3 = boto3.resource('s3')\n",
    "# for bucket in s3.buckets.all():\n",
    "#     print(bucket.name)\n",
    "    \n",
    "# my_bucket = 'sagemaker-studio-zd1j05seaof'\n",
    "# my_file = '1017_1/DJI_20210520122305_0032.JPG'\n",
    "# s3client = boto3.client('s3')\n",
    "# response = s3client.get_object(Bucket=my_bucket, Key=my_file)\n",
    "# body = response['Body']"
   ]
  },
  {
   "cell_type": "code",
   "execution_count": null,
   "metadata": {},
   "outputs": [],
   "source": [
    "# from PIL import Image\n",
    "# from io import BytesIO\n",
    "\n",
    "# im = Image.open(body)\n",
    "# image = np.array(im)\n"
   ]
  },
  {
   "cell_type": "code",
   "execution_count": null,
   "metadata": {},
   "outputs": [],
   "source": [
    "# plt.figure(figsize = (20,10))\n",
    "# plt.imshow(image[500:1300, 500:2000])"
   ]
  },
  {
   "cell_type": "code",
   "execution_count": 5,
   "metadata": {},
   "outputs": [],
   "source": [
    "# this is to load up the file path for the annotation\n",
    "my_bucket = 'sagemaker-studio-zd1j05seaof'\n",
    "conn = boto3.client('s3')\n",
    "annot_path = 'annotation_1017/'\n",
    "annot = conn.list_objects(Bucket=my_bucket, Prefix=annot_path)['Contents']\n",
    "# for f in annot:\n",
    "# #     print(f['Key']) # print what files are in this specific folder"
   ]
  },
  {
   "cell_type": "code",
   "execution_count": 6,
   "metadata": {},
   "outputs": [
    {
     "data": {
      "text/plain": [
       "'annotation_1017/DJI_20210520122305_0032.bbx'"
      ]
     },
     "execution_count": 6,
     "metadata": {},
     "output_type": "execute_result"
    }
   ],
   "source": [
    "annot[1]['Key']"
   ]
  },
  {
   "cell_type": "markdown",
   "metadata": {
    "id": "yA32BBX_JX-r"
   },
   "source": [
    "### Data exploration on AWS\n",
    "\n",
    "The following cells generate some metrics and plots to help understand the loaded dataset. "
   ]
  },
  {
   "cell_type": "code",
   "execution_count": 7,
   "metadata": {},
   "outputs": [],
   "source": [
    "s3client = boto3.client('s3')\n",
    "target_data = []\n",
    "for f in annot:\n",
    "    response = s3client.get_object(Bucket=my_bucket, Key=f['Key'])\n",
    "    body = response['Body']\n",
    "    target_data.append(pd.read_csv(body, header=0, \n",
    "                       names = [\"class_id\", \"class_name\", \"x\", \"y\", \"width\", \"height\"] ))\n",
    "target_data = pd.concat(target_data, axis=0, ignore_index=True)\n"
   ]
  },
  {
   "cell_type": "code",
   "execution_count": null,
   "metadata": {},
   "outputs": [],
   "source": []
  },
  {
   "cell_type": "code",
   "execution_count": 8,
   "metadata": {},
   "outputs": [
    {
     "name": "stdout",
     "output_type": "stream",
     "text": [
      "\n",
      " Bird Species Distribution\n",
      "Laughing Gull Adult       772\n",
      "Mixed Tern Adult          286\n",
      "Mixed Tern Flying          19\n",
      "Laughing Gull Flying       17\n",
      "Other Bird                 16\n",
      "Trash/Debris               13\n",
      "Brown Pelican Adult         5\n",
      "Brown Pelican Juvenile      1\n",
      "Name: class_name, dtype: int64\n",
      "\n",
      "\n"
     ]
    }
   ],
   "source": [
    "# target_data\n",
    "print('\\n Bird Species Distribution')\n",
    "print(target_data[\"class_name\"].value_counts())\n",
    "print('\\n')"
   ]
  },
  {
   "cell_type": "code",
   "execution_count": 9,
   "metadata": {},
   "outputs": [
    {
     "data": {
      "image/png": "[encoded data removed]",
      "text/plain": [
       "<Figure size 720x432 with 1 Axes>"
      ]
     },
     "metadata": {
      "needs_background": "light"
     },
     "output_type": "display_data"
    }
   ],
   "source": [
    "ax = target_data[\"class_name\"].value_counts().plot.bar(figsize=(10,6))  \n",
    "ax.set_title('Bird Species Distribution')\n",
    "plt.show()"
   ]
  },
  {
   "cell_type": "code",
   "execution_count": null,
   "metadata": {},
   "outputs": [],
   "source": [
    "\n",
    "    "
   ]
  },
  {
   "cell_type": "code",
   "execution_count": 11,
   "metadata": {},
   "outputs": [
    {
     "ename": "NameError",
     "evalue": "name 'annotation_lst' is not defined",
     "output_type": "error",
     "traceback": [
      "\u001b[0;31m---------------------------------------------------------------------------\u001b[0m",
      "\u001b[0;31mNameError\u001b[0m                                 Traceback (most recent call last)",
      "\u001b[0;32m<ipython-input-11-86d12874dce5>\u001b[0m in \u001b[0;36m<module>\u001b[0;34m\u001b[0m\n\u001b[1;32m      1\u001b[0m \u001b[0;31m# key_exist(my_bucket, 'annotation_1017/')\u001b[0m\u001b[0;34m\u001b[0m\u001b[0;34m\u001b[0m\u001b[0;34m\u001b[0m\u001b[0m\n\u001b[0;32m----> 2\u001b[0;31m \u001b[0mannotation_lst\u001b[0m\u001b[0;34m\u001b[0m\u001b[0;34m\u001b[0m\u001b[0m\n\u001b[0m",
      "\u001b[0;31mNameError\u001b[0m: name 'annotation_lst' is not defined"
     ]
    }
   ],
   "source": [
    "# key_exist(my_bucket, 'annotation_1017/')\n"
   ]
  },
  {
   "cell_type": "code",
   "execution_count": 10,
   "metadata": {},
   "outputs": [
    {
     "ename": "NoSuchKey",
     "evalue": "An error occurred (NoSuchKey) when calling the GetObject operation: The specified key does not exist.",
     "output_type": "error",
     "traceback": [
      "\u001b[0;31m---------------------------------------------------------------------------\u001b[0m",
      "\u001b[0;31mNoSuchKey\u001b[0m                                 Traceback (most recent call last)",
      "\u001b[0;32m<ipython-input-10-cfa61dbeb27c>\u001b[0m in \u001b[0;36m<module>\u001b[0;34m\u001b[0m\n\u001b[1;32m      4\u001b[0m \u001b[0;32mfrom\u001b[0m \u001b[0mutils\u001b[0m\u001b[0;34m.\u001b[0m\u001b[0mcropping\u001b[0m \u001b[0;32mimport\u001b[0m \u001b[0mcsv_to_dict_AWS\u001b[0m\u001b[0;34m\u001b[0m\u001b[0;34m\u001b[0m\u001b[0m\n\u001b[1;32m      5\u001b[0m \u001b[0;34m\u001b[0m\u001b[0m\n\u001b[0;32m----> 6\u001b[0;31m \u001b[0mannot_dict\u001b[0m \u001b[0;34m=\u001b[0m \u001b[0mcsv_to_dict_AWS\u001b[0m\u001b[0;34m(\u001b[0m\u001b[0mbucket_name\u001b[0m\u001b[0;34m=\u001b[0m \u001b[0mmy_bucket\u001b[0m\u001b[0;34m,\u001b[0m\u001b[0mkey\u001b[0m \u001b[0;34m=\u001b[0m \u001b[0;34m'annotation_1017/DJI_20210520121104_0601.bbx'\u001b[0m\u001b[0;34m,\u001b[0m \u001b[0mim_fold\u001b[0m \u001b[0;34m=\u001b[0m \u001b[0;34m'1017_2/'\u001b[0m\u001b[0;34m)\u001b[0m\u001b[0;34m\u001b[0m\u001b[0;34m\u001b[0m\u001b[0m\n\u001b[0m\u001b[1;32m      7\u001b[0m \u001b[0mannotation_lst\u001b[0m \u001b[0;34m=\u001b[0m \u001b[0;34m[\u001b[0m\u001b[0mlist\u001b[0m\u001b[0;34m(\u001b[0m\u001b[0mx\u001b[0m\u001b[0;34m.\u001b[0m\u001b[0mvalues\u001b[0m\u001b[0;34m(\u001b[0m\u001b[0;34m)\u001b[0m\u001b[0;34m)\u001b[0m \u001b[0;32mfor\u001b[0m \u001b[0mx\u001b[0m \u001b[0;32min\u001b[0m \u001b[0mannot_dict\u001b[0m\u001b[0;34m[\u001b[0m\u001b[0;34m'bbox'\u001b[0m\u001b[0;34m]\u001b[0m\u001b[0;34m]\u001b[0m\u001b[0;34m\u001b[0m\u001b[0;34m\u001b[0m\u001b[0m\n\u001b[1;32m      8\u001b[0m \u001b[0;34m\u001b[0m\u001b[0m\n",
      "\u001b[0;32m~/Audubon_F21/utils/cropping.py\u001b[0m in \u001b[0;36mcsv_to_dict_AWS\u001b[0;34m(bucket_name, key, im_fold, AWS_storage, annot_file_ext)\u001b[0m\n\u001b[1;32m     25\u001b[0m     \u001b[0ms3client\u001b[0m \u001b[0;34m=\u001b[0m \u001b[0mboto3\u001b[0m\u001b[0;34m.\u001b[0m\u001b[0mclient\u001b[0m\u001b[0;34m(\u001b[0m\u001b[0mAWS_storage\u001b[0m\u001b[0;34m)\u001b[0m\u001b[0;34m\u001b[0m\u001b[0;34m\u001b[0m\u001b[0m\n\u001b[1;32m     26\u001b[0m \u001b[0;34m\u001b[0m\u001b[0m\n\u001b[0;32m---> 27\u001b[0;31m     \u001b[0mresponse\u001b[0m \u001b[0;34m=\u001b[0m \u001b[0ms3client\u001b[0m\u001b[0;34m.\u001b[0m\u001b[0mget_object\u001b[0m\u001b[0;34m(\u001b[0m\u001b[0mBucket\u001b[0m\u001b[0;34m=\u001b[0m\u001b[0mbucket_name\u001b[0m\u001b[0;34m,\u001b[0m \u001b[0mKey\u001b[0m\u001b[0;34m=\u001b[0m\u001b[0mkey\u001b[0m\u001b[0;34m)\u001b[0m\u001b[0;34m\u001b[0m\u001b[0;34m\u001b[0m\u001b[0m\n\u001b[0m\u001b[1;32m     28\u001b[0m     \u001b[0mbody\u001b[0m \u001b[0;34m=\u001b[0m \u001b[0mresponse\u001b[0m\u001b[0;34m[\u001b[0m\u001b[0;34m'Body'\u001b[0m\u001b[0;34m]\u001b[0m\u001b[0;34m\u001b[0m\u001b[0;34m\u001b[0m\u001b[0m\n\u001b[1;32m     29\u001b[0m \u001b[0;34m\u001b[0m\u001b[0m\n",
      "\u001b[0;32m/opt/conda/lib/python3.6/site-packages/botocore/client.py\u001b[0m in \u001b[0;36m_api_call\u001b[0;34m(self, *args, **kwargs)\u001b[0m\n\u001b[1;32m    389\u001b[0m                     \"%s() only accepts keyword arguments.\" % py_operation_name)\n\u001b[1;32m    390\u001b[0m             \u001b[0;31m# The \"self\" in this scope is referring to the BaseClient.\u001b[0m\u001b[0;34m\u001b[0m\u001b[0;34m\u001b[0m\u001b[0;34m\u001b[0m\u001b[0m\n\u001b[0;32m--> 391\u001b[0;31m             \u001b[0;32mreturn\u001b[0m \u001b[0mself\u001b[0m\u001b[0;34m.\u001b[0m\u001b[0m_make_api_call\u001b[0m\u001b[0;34m(\u001b[0m\u001b[0moperation_name\u001b[0m\u001b[0;34m,\u001b[0m \u001b[0mkwargs\u001b[0m\u001b[0;34m)\u001b[0m\u001b[0;34m\u001b[0m\u001b[0;34m\u001b[0m\u001b[0m\n\u001b[0m\u001b[1;32m    392\u001b[0m \u001b[0;34m\u001b[0m\u001b[0m\n\u001b[1;32m    393\u001b[0m         \u001b[0m_api_call\u001b[0m\u001b[0;34m.\u001b[0m\u001b[0m__name__\u001b[0m \u001b[0;34m=\u001b[0m \u001b[0mstr\u001b[0m\u001b[0;34m(\u001b[0m\u001b[0mpy_operation_name\u001b[0m\u001b[0;34m)\u001b[0m\u001b[0;34m\u001b[0m\u001b[0;34m\u001b[0m\u001b[0m\n",
      "\u001b[0;32m/opt/conda/lib/python3.6/site-packages/botocore/client.py\u001b[0m in \u001b[0;36m_make_api_call\u001b[0;34m(self, operation_name, api_params)\u001b[0m\n\u001b[1;32m    717\u001b[0m             \u001b[0merror_code\u001b[0m \u001b[0;34m=\u001b[0m \u001b[0mparsed_response\u001b[0m\u001b[0;34m.\u001b[0m\u001b[0mget\u001b[0m\u001b[0;34m(\u001b[0m\u001b[0;34m\"Error\"\u001b[0m\u001b[0;34m,\u001b[0m \u001b[0;34m{\u001b[0m\u001b[0;34m}\u001b[0m\u001b[0;34m)\u001b[0m\u001b[0;34m.\u001b[0m\u001b[0mget\u001b[0m\u001b[0;34m(\u001b[0m\u001b[0;34m\"Code\"\u001b[0m\u001b[0;34m)\u001b[0m\u001b[0;34m\u001b[0m\u001b[0;34m\u001b[0m\u001b[0m\n\u001b[1;32m    718\u001b[0m             \u001b[0merror_class\u001b[0m \u001b[0;34m=\u001b[0m \u001b[0mself\u001b[0m\u001b[0;34m.\u001b[0m\u001b[0mexceptions\u001b[0m\u001b[0;34m.\u001b[0m\u001b[0mfrom_code\u001b[0m\u001b[0;34m(\u001b[0m\u001b[0merror_code\u001b[0m\u001b[0;34m)\u001b[0m\u001b[0;34m\u001b[0m\u001b[0;34m\u001b[0m\u001b[0m\n\u001b[0;32m--> 719\u001b[0;31m             \u001b[0;32mraise\u001b[0m \u001b[0merror_class\u001b[0m\u001b[0;34m(\u001b[0m\u001b[0mparsed_response\u001b[0m\u001b[0;34m,\u001b[0m \u001b[0moperation_name\u001b[0m\u001b[0;34m)\u001b[0m\u001b[0;34m\u001b[0m\u001b[0;34m\u001b[0m\u001b[0m\n\u001b[0m\u001b[1;32m    720\u001b[0m         \u001b[0;32melse\u001b[0m\u001b[0;34m:\u001b[0m\u001b[0;34m\u001b[0m\u001b[0;34m\u001b[0m\u001b[0m\n\u001b[1;32m    721\u001b[0m             \u001b[0;32mreturn\u001b[0m \u001b[0mparsed_response\u001b[0m\u001b[0;34m\u001b[0m\u001b[0;34m\u001b[0m\u001b[0m\n",
      "\u001b[0;31mNoSuchKey\u001b[0m: An error occurred (NoSuchKey) when calling the GetObject operation: The specified key does not exist."
     ]
    }
   ],
   "source": [
    "# from PIL import Image \n",
    "from PIL import Image\n",
    "from utils import plotting\n",
    "from utils.cropping import csv_to_dict_AWS\n",
    "\n",
    "annot_dict = csv_to_dict_AWS(bucket_name= my_bucket,key = 'annotation_1017/DJI_20210520121104_0601.bbx', im_fold = '1017_2/')\n",
    "annotation_lst = [list(x.values()) for x in annot_dict['bbox']]\n",
    "\n",
    "imre = s3client.get_object(Bucket = my_bucket, Key= '1017_2/DJI_20210520121104_0601.JPG' )\n",
    "im = Image.open(imre['Body'])\n",
    "\n",
    "print(\"Raw image with bounding boxes:\")\n",
    "plotting.plot_img_bbx(im, annotation_lst) "
   ]
  },
  {
   "cell_type": "code",
   "execution_count": null,
   "metadata": {},
   "outputs": [],
   "source": [
    "# [x['Key'] for x in s3client.list_objects_v2(Bucket = my_bucket, Prefix = '1017_2/')['Contents']]"
   ]
  },
  {
   "cell_type": "markdown",
   "metadata": {
    "id": "1srbJOyFEA9u"
   },
   "source": [
    "### Tiling \n",
    "\n",
    "In order to prepare the dataset to be used for training in our deep learning models, we must tile the large 8192 × 5460 raw drone images into smaller sizes. The size of generated images can be specified by setting parameters and is default to be 640 × 640.\n",
    "\n",
    "The following cells tiles the original dataset images and corresponding annotations in annotation files. "
   ]
  },
  {
   "cell_type": "code",
   "execution_count": 12,
   "metadata": {},
   "outputs": [],
   "source": [
    "# check if the key/directory exist in the S3 bucket\n",
    "# a key can be the folder location or the file name\n",
    "def key_exist(my_bucket, my_key, s3 = 's3'):\n",
    "    # sujective to change for the bucket placement\n",
    "    s3_client = boto3.client(s3)\n",
    "    response = s3_client.list_objects_v2(Bucket=my_bucket, Prefix=my_key,MaxKeys=1)\n",
    "    \n",
    "    return 'Contents' in response"
   ]
  },
  {
   "cell_type": "code",
   "execution_count": null,
   "metadata": {},
   "outputs": [],
   "source": [
    "# s3client.put_object(Bucket = my_bucket, Key = 'Test123/') #this is how to make a new director in S3 bucket\n",
    "# im.save('./temp'+'/123.JPEG')\n",
    "# s3client.upload_file(Filename='./temp/123.JPEG', Bucket = my_bucket, Key = 'Test123/123.JPEG') #this is how to upload a new file"
   ]
  },
  {
   "cell_type": "code",
   "execution_count": 16,
   "metadata": {},
   "outputs": [],
   "source": [
    "def dict_to_csv_AWS(info_dict, output_path, empty):\n",
    "    \"\"\"\n",
    "    Function to convert (cropped images') info_dicts to annoatation csv files\n",
    "    INPUT:\n",
    "     info_dict -- output from the csv_to_dict function, containing bbox, filename, img_size\n",
    "     output_path -- folder path to store the converted csv files\n",
    "    OUTPUT:\n",
    "      an csv file(corresponding for 1 image) saved to a folder. The bndbox info in the format of (className,\n",
    "      xmin, ymin, width, height)\n",
    "    \"\"\"\n",
    "    new_bbx_buffer = []\n",
    "    schema = ['class_id', 'desc', 'x', 'y', 'width', 'height']\n",
    "    if not empty:\n",
    "        for obj in info_dict['bbox']:\n",
    "            className = obj['class']\n",
    "            desc = obj['desc']\n",
    "            xmin = obj['xmin']\n",
    "            xmax = obj['xmax']\n",
    "            ymin = obj['ymin']\n",
    "            ymax = obj['ymax']\n",
    "            # className, description, xmin, ymin, width, height\n",
    "            new_bbx_buffer.append([className, desc, int(xmin), int(ymin), int(xmax) - int(xmin), int(ymax) - int(ymin)])\n",
    "    # Name of the file to save\n",
    "    save_file_name = os.path.join('./temp', info_dict[\"file_name\"].replace('JPG', 'csv'))\n",
    "    \n",
    "    \n",
    "    # write to files\n",
    "    with open(save_file_name, \"w\", newline=\"\") as f:\n",
    "        writer = csv.writer(f)\n",
    "        writer.writerow([g for g in schema])\n",
    "        if not empty:\n",
    "            writer.writerows(new_bbx_buffer)\n",
    "            \n",
    "    #Write it to the cloud\n",
    "    s3client.upload_file(Filename = save_file_name, Bucket = my_bucket, Key = output_key +'/'+info_dict[\"file_name\"].replace('JPG', 'csv'))\n",
    "\n",
    "def tile_annot(left, right, top, bottom, info_dict, i, j, crop_height, crop_width, overlap, file_dict):\n",
    "    \"\"\"\n",
    "    THIS FUNCTION calculate the new positions of bndbox in cropped img and append them to file_dict,\n",
    "    which is an info dict for that cropped img.\n",
    "\n",
    "    INPUTS:\n",
    "    left, right, top, bottom -- params for the python crop img function, coordinates for tiles.\n",
    "    origin is top left.\n",
    "    info_dict -- the info_dict we get from the csv_to_dict function.\n",
    "    overlap -- threshold for keeping a bbox.\n",
    "    \"\"\"\n",
    "    # file_dict stores info of one subimage as a dictionary. keys indicate original file name and subimage position.\n",
    "    file_dict[str(i) + '_' + str(j)] = {}\n",
    "    file_dict[str(i) + '_' + str(j)]['bbox'] = []\n",
    "    file_dict[str(i) + '_' + str(j)]['file_name'] = info_dict['file_name'][:-4] + '_' + str(i) + '_' + str(j) + '.JPG'\n",
    "    file_dict[str(i) + '_' + str(j)]['img_size'] = (right - left, bottom - top, 3)\n",
    "\n",
    "    valid = False\n",
    "    for b in info_dict['bbox']:\n",
    "        ymin = max(b['ymin'] - top, 0)\n",
    "        ymax = min(b['ymax'] - top, crop_height)\n",
    "        xmin = max(b['xmin'] - left, 0)\n",
    "        xmax = min(b['xmax'] - left, crop_width)\n",
    "        # if the bird is not in this patch, pass\n",
    "        if xmin > crop_width or xmax < 0 or ymin > crop_height or ymax < 0:\n",
    "            continue\n",
    "        else:\n",
    "            if (xmax - xmin) * (ymax - ymin) > overlap * (b['xmax'] - b['xmin']) * (b['ymax'] - b['ymin']) \\\n",
    "                    or b['xmin'] >= left and b['xmax'] <= right and b['ymin'] >= top and b['ymax'] <= bottom:\n",
    "                valid = True\n",
    "                # instance_dict is the info_dict for one patch\n",
    "                instance_dict = {}\n",
    "                # transform bbx coordinates\n",
    "                instance_dict['class'] = b['class']\n",
    "                instance_dict['desc'] = b['desc']\n",
    "                instance_dict['xmin'] = max(b['xmin'] - left, 0)\n",
    "                instance_dict['xmax'] = min(b['xmax'] - left, crop_width)\n",
    "                instance_dict['ymin'] = max(b['ymin'] - top, 0)\n",
    "                instance_dict['ymax'] = min(b['ymax'] - top, crop_height)\n",
    "\n",
    "                file_dict[str(i) + '_' + str(j)]['bbox'].append(instance_dict)\n",
    "    return valid\n",
    "\n",
    "\n",
    "# this function generates all the cropped images and all corresponding label txt files for a single file\n",
    "# file_dict stores cropped images info dict in one dictionary.\n",
    "def crop_img_AWS(s3client, my_bucket, annot_key, img_key, output_key, crop_height, crop_width, class_map = {}, overlap=0.2, annot_file_ext='csv', file_dict={}):\n",
    "    \"\"\"\n",
    "    This function crops one image and output corresponding labels.\n",
    "    Currently, this function generates the cropped images AND the corresponding csv files to output_dir\n",
    "    INPUT:\n",
    "    crop_height, crop_weight -- desired patch size.\n",
    "    overlap -- threshold for keeping bbx.\n",
    "    annot_file_ext -- annotation file extension\n",
    "    \"\"\"\n",
    "    print(img_key)\n",
    "    print(annot_key)\n",
    "    info_dict = csv_to_dict_AWS(bucket_name= my_bucket,key = annot_key, im_fold = img_key)\n",
    "    \n",
    "    img_height, img_width, img_depth = info_dict['img_size']\n",
    "    \n",
    "    image = s3client.get_object(Bucket = my_bucket, Key= img_key + annot_key.split('/')[-1].replace(annot_file_ext, 'JPG') )\n",
    "    \n",
    "    im = Image.open(image['Body'], 'r')\n",
    "    \n",
    "    file_name = annot_key.split('/')[-1].split('.')[0]\n",
    "    \n",
    "    # go through the image from top left corner\n",
    "    for i in range(img_height // crop_height + 1):\n",
    "\n",
    "        for j in range(img_width // crop_width + 1):\n",
    "\n",
    "            if j < (img_width // crop_width) and i < (img_height // crop_height):\n",
    "                left = j * crop_width\n",
    "                right = (j + 1) * crop_width\n",
    "                top = i * crop_height\n",
    "                bottom = (i + 1) * crop_height\n",
    "\n",
    "            elif j == img_width // crop_width and i < (img_height // crop_height):\n",
    "                left = img_width - crop_width\n",
    "                right = img_width\n",
    "                top = i * crop_height\n",
    "                bottom = (i + 1) * crop_height\n",
    "\n",
    "            # if rectangles left on edges, take subimage of crop_height*crop_width by taking a part from within.\n",
    "            elif i == img_height // crop_height and j < (img_width // crop_width):\n",
    "                left = j * crop_width\n",
    "                right = (j + 1) * crop_width\n",
    "                top = img_height - crop_height\n",
    "                bottom = img_height\n",
    "\n",
    "            else:\n",
    "                left = img_width - crop_width\n",
    "                right = img_width\n",
    "                top = img_height - crop_height\n",
    "                bottom = img_height\n",
    "                \n",
    "            # even if no birds in cropped img, keep the cropped image\n",
    "            \n",
    "            if tile_annot(left, right, top, bottom, info_dict, i, j, crop_height, crop_width, overlap, file_dict):\n",
    "                # print('Generating segmentation at position: ', left, top, right, bottom)\n",
    "                \n",
    "                c_img = im.crop((left, top, right, bottom))\n",
    "                c_img_name = file_name + '_' + str(i) + '_' + str(j) +'.JPEG'\n",
    "                \n",
    "                # write all this is the temporary folder in the current working directory\n",
    "                c_img.save('./temp'+'/'+c_img_name)\n",
    "                \n",
    "                #uploading it to the bucket storage\n",
    "                s3client.upload_file(Filename = './temp'+'/'+c_img_name, Bucket = my_bucket, Key = output_key +'/'+c_img_name)\n",
    "                \n",
    "                \n",
    "\n",
    "    # output the file_dict to a folder of csv files containing labels for each cropped file\n",
    "    for b in file_dict:\n",
    "        if file_dict[b]['bbox'] == []:\n",
    "            empty = True\n",
    "            continue\n",
    "        else:\n",
    "            empty = False\n",
    "            dict_to_csv_AWS(file_dict[b], empty=empty, output_path=output_key)\n",
    "\n",
    "    return file_dict\n",
    "\n",
    "\n",
    "def crop_dataset_AWS(bucket, data_key, output_key, annot_key, annot_file_ext = 'csv', class_map = {}, crop_height=640, crop_width=640):\n",
    "    \"\"\"\n",
    "    :param data_dir: image set directory\n",
    "    :param output_dir: output directory\n",
    "    :param annot_file_ext: annotation file extension\n",
    "    :param crop_height: image height after tiling, default 640\n",
    "    :param crop_width: image width after tiling, default 640\n",
    "    \"\"\"\n",
    "    s3client = boto3.client('s3') # start grabbing or makign directory in S3 bucket\n",
    "    \n",
    "    \n",
    "    if not key_exist(my_bucket = bucket, my_key = output_key): # this function works only for S3 bucket, will change if we need to modularize this\n",
    "        print(f\"Creating output directory at in S3 bucket called: {output_key}\")\n",
    "        s3client.put_object(Bucket = bucket, Key = output_key)\n",
    "        \n",
    "    # making temporary folder in the current directory\n",
    "    if not os.path.exists('./temp'):\n",
    "        print(f\"Creating temp folder\")\n",
    "        os.makedirs('./temp')\n",
    "\n",
    "                            \n",
    "\n",
    "    # find all the files inside the annotated folders                            \n",
    "    if annot_file_ext == 'csv':\n",
    "        files = [x['Key'] for x in s3client.list_objects_v2(Bucket = my_bucket, Prefix = annot_key)['Contents']]\n",
    "    if annot_file_ext == 'bbx':\n",
    "        files = [x['Key'] for x in s3client.list_objects_v2(Bucket = my_bucket, Prefix = annot_key)['Contents']]\n",
    "                            \n",
    "                            \n",
    "    # for each annotated file, crop the image and place it into the output directory\n",
    "    for f in tqdm(files, desc='Cropping files'):\n",
    "        crop_img_AWS(s3client = s3client, my_bucket = bucket, annot_key=f ,img_key = data_key, output_key = output_key, crop_height=crop_height, crop_width=crop_width, class_map=class_map,\n",
    "                 annot_file_ext=annot_file_ext)\n",
    "    \n",
    "    shutil.rmtree('./temp')\n",
    "    return None\n",
    "#     \n",
    "\n",
    "\n",
    "# def crop_dataset_AWS(bucket, data_key, output_key, annot_file_ext = 'csv', class_map = {}, crop_height=640, crop_width=640):\n",
    "#     \"\"\"\n",
    "#     :param data_dir: image set directory\n",
    "#     :param output_dir: output directory\n",
    "#     :param annot_file_ext: annotation file extension\n",
    "#     :param crop_height: image height after tiling, default 640\n",
    "#     :param crop_width: image width after tiling, default 640\n",
    "#     \"\"\"\n",
    "#     s3client = boto3.client('s3') # start grabbing or makign directory in S3 bucket\n",
    "    \n",
    "    \n",
    "#     if not key_exist(my_bucket = bucket, my_key = output_key): # this function works only for S3 bucket, will change if we need to modularize this\n",
    "#         print(f\"Creating output directory at in S3 bucket called: {output_key}\")\n",
    "#         s3client.put_object(Bucket = bucket, Key = output_key)\n",
    "#         s3client.put_object(Bucket = bucket, Key = output_key+'Intermediate/')\n",
    "#     elif not key_exist(my_bucket = bucket, my_key = output_key +'Intermediate/'):\n",
    "#         s3client.put_object(Bucket = bucket, Key = output_key+'Intermediate/')\n",
    "        \n",
    "#     # making temporary folder in the current directory\n",
    "#     if not os.path.exists('./temp'):\n",
    "#         print(f\"Creating temp folder\")\n",
    "#         os.makedirs('./temp')\n",
    "#         os.makedirs(os.path.join('./temp', 'Intermediate'))\n",
    "#     elif not os.path.exists(os.path.join('./temp', 'Intermediate')):\n",
    "#         os.makedirs(os.path.join('./temp', 'Intermediate'))\n",
    "\n",
    "                            \n",
    "\n",
    "#     # find all the files inside the annotated folders                            \n",
    "#     if annot_file_ext == 'csv':\n",
    "#         files = [data_key+Prex['Key'] for x in s3client.list_objects_v2(Bucket = my_bucket, Prefix = data_key)['Contents']]\n",
    "#     if annot_file_ext == 'bbx':\n",
    "#         files = [data_key+Prex['Key'] for x in s3client.list_objects_v2(Bucket = my_bucket, Prefix = data_key)['Contents']]\n",
    "                            \n",
    "                            \n",
    "#     # for each annotated file, crop the image and place it into the output directory\n",
    "#     for f in tqdm(files, desc='Cropping files'):\n",
    "#         crop_img_AWS(s3client = s3client, my_buckey = bucket, annot_key=f,img_key = data_key, crop_height=crop_height, crop_width=crop_width, output_key=output_key, class_map=class_map,\n",
    "#                  annot_file_ext=annot_file_ext)\n",
    "\n",
    "#     shutil.rmtree(os.path.join(output_dir, 'Intermediate'))"
   ]
  },
  {
   "cell_type": "code",
   "execution_count": 17,
   "metadata": {
    "id": "GfSuT1ioQFOX"
   },
   "outputs": [
    {
     "data": {
      "application/vnd.jupyter.widget-view+json": {
       "model_id": "5e8bc069241c4bc2823417c7c2be928f",
       "version_major": 2,
       "version_minor": 0
      },
      "text/plain": [
       "Cropping files:   0%|          | 0/18 [00:00<?, ?it/s]"
      ]
     },
     "metadata": {},
     "output_type": "display_data"
    },
    {
     "name": "stdout",
     "output_type": "stream",
     "text": [
      "1017_1/\n",
      "annotation_1017/DJI_20210520122304_0031.bbx\n",
      "1017_1/\n",
      "annotation_1017/DJI_20210520122305_0032.bbx\n",
      "1017_1/\n",
      "annotation_1017/DJI_20210520122307_0033.bbx\n",
      "1017_1/\n",
      "annotation_1017/DJI_20210520122309_0034.bbx\n",
      "1017_1/\n",
      "annotation_1017/DJI_20210520122418_0076.bbx\n",
      "1017_1/\n",
      "annotation_1017/DJI_20210520122420_0077.bbx\n",
      "1017_1/\n",
      "annotation_1017/DJI_20210520122422_0078.bbx\n",
      "1017_1/\n",
      "annotation_1017/DJI_20210520122423_0079.bbx\n",
      "1017_1/\n",
      "annotation_1017/DJI_20210520122425_0080.bbx\n",
      "1017_1/\n",
      "annotation_1017/DJI_20210520122427_0081.bbx\n",
      "1017_1/\n",
      "annotation_1017/DJI_20210520122503_0103.bbx\n",
      "1017_1/\n",
      "annotation_1017/DJI_20210520122504_0104.bbx\n",
      "1017_1/\n",
      "annotation_1017/DJI_20210520122506_0105.bbx\n",
      "1017_1/\n",
      "annotation_1017/DJI_20210520122508_0106.bbx\n",
      "1017_1/\n",
      "annotation_1017/DJI_20210520122509_0107.bbx\n",
      "1017_1/\n",
      "annotation_1017/DJI_20210520122511_0108.bbx\n",
      "1017_1/\n",
      "annotation_1017/DJI_20210520122513_0109.bbx\n",
      "1017_1/\n",
      "annotation_1017/DJI_20210520122515_0110.bbx\n"
     ]
    }
   ],
   "source": [
    "# from Audubon_F21.utils.cropping import crop_dataset\n",
    "\n",
    "# # data_dir is the path that contains both images and annotations (image: jpg; annotation: csv or bbx)\n",
    "# data_dir = './data/raw' # data directory folder \n",
    "# # output dir is the path where you want to output new files. Please use the folder you defined above.\n",
    "# output_dir = './data/tiled'\n",
    "\n",
    "data_key = '1017_1/'\n",
    "output_key = 'test_crop/'\n",
    "annot_key = 'annotation_1017/'\n",
    "\n",
    "crop_dataset_AWS(bucket = my_bucket, data_key = data_key, output_key=output_key\n",
    "                 , annot_key = annot_key, annot_file_ext = 'bbx',crop_height=640, crop_width=640)\n",
    "\n",
    "# crop_dataset(data_dir, output_dir, annot_file_ext = 'bbx', crop_height = 640, crop_width = 640)"
   ]
  },
  {
   "cell_type": "code",
   "execution_count": null,
   "metadata": {},
   "outputs": [],
   "source": [
    "def train_val_test_split_AWS(file_dir, output_dir, train_frac=0.8, val_frac=0.1):\n",
    "    \"\"\"\n",
    "    :param file_dir: crop_dataset()'s output path:\n",
    "    :param output_dir: an empty folder\n",
    "    :param train_frac: fraction for training\n",
    "    :param val_frac: fraction for validation, 1-train-val will be fraction for test\n",
    "    \"\"\"\n",
    "    p = Path(output_dir)\n",
    "    p1 = Path(os.path.join(output_dir, 'train'))\n",
    "    p2 = Path(os.path.join(output_dir, 'val'))\n",
    "    p3 = Path(os.path.join(output_dir, 'test'))\n",
    "\n",
    "    if not p.is_dir():\n",
    "        print('The output directory should be an empty folder')\n",
    "    if not p1.is_dir():\n",
    "        print('Please create an empty folder named \"train\" inside the output folder')\n",
    "    if not p2.is_dir():\n",
    "        print('Please create an empty folder named \"val\" inside the output folder')\n",
    "    if not p3.is_dir():\n",
    "        print('Please create an empty folder named \"test\" inside the output folder')\n",
    "\n",
    "    img_list = [f for f in os.listdir(file_dir) if f[-4:] == 'JPEG']\n",
    "    random.Random(4).shuffle(img_list)\n",
    "    csv_list = [f.replace('JPEG', 'csv') for f in img_list]\n",
    "    size = len(img_list)\n",
    "    train_sz = int(size * train_frac)\n",
    "    val_sz = int(size * val_frac)\n",
    "    for idx in range(size):\n",
    "        if idx < train_sz:\n",
    "            shutil.move(os.path.join(file_dir, img_list[idx]), os.path.join(output_dir, 'train'))\n",
    "            shutil.move(os.path.join(file_dir, csv_list[idx]), os.path.join(output_dir, 'train'))\n",
    "        elif idx < train_sz + val_sz:\n",
    "            shutil.move(os.path.join(file_dir, img_list[idx]), os.path.join(output_dir, 'val'))\n",
    "            shutil.move(os.path.join(file_dir, csv_list[idx]), os.path.join(output_dir, 'val'))\n",
    "        else:\n",
    "            shutil.move(os.path.join(file_dir, img_list[idx]), os.path.join(output_dir, 'test'))\n",
    "            shutil.move(os.path.join(file_dir, csv_list[idx]), os.path.join(output_dir, 'test'))"
   ]
  },
  {
   "cell_type": "markdown",
   "metadata": {
    "id": "-H0_4KdPEEJZ"
   },
   "source": [
    "### Split dataset into training, validation, and test \n"
   ]
  },
  {
   "cell_type": "code",
   "execution_count": null,
   "metadata": {
    "id": "qfb8Q6BtQQ5F"
   },
   "outputs": [],
   "source": [
    " from Audubon_F21.utils.cropping import train_val_test_split\n",
    "\n",
    "# create a new output folder for train, val, test dataset\n",
    "# create three folders under the new output folder, with name 'train', 'val', 'test'\n",
    "!mkdir -p /content/data/split\n",
    "!mkdir -p /content/data/split/train\n",
    "!mkdir -p /content/data/split/val\n",
    "!mkdir -p /content/data/split/test\n",
    "\n",
    "# specify the folder directory where you have the tiled images (output_dir of the crop_dataset() function)\n",
    "file_dir = '/content/data/tiled'\n",
    "# output_dir is the new output folder you created in the cell above\n",
    "output_dir = '/content/data/split'\n",
    "# train is a percentage, the fraction of files for training\n",
    "train_frac = 0.8\n",
    "# val is a percentage, the fraction of files for validation\n",
    "val_frac = 0.1\n",
    "# the fraction for test is default to be 1-train-val\n",
    "train_val_test_split(file_dir, output_dir, train_frac=train_frac, val_frac=val_frac)"
   ]
  },
  {
   "cell_type": "code",
   "execution_count": null,
   "metadata": {
    "id": "2gEL7rjsEsSk"
   },
   "outputs": [],
   "source": [
    "# Distribution of bird species for train, val, and test sets\n",
    "# data directory folders \n",
    "data_dir = 'data/split'\n",
    "dirs = [d for d in os.listdir(data_dir)]\n",
    "\n",
    "# Load CSV files \n",
    "for d in dirs: \n",
    "  target_data = []\n",
    "  for f in glob.glob(os.path.join(data_dir,d,'*.csv')): \n",
    "    target_data.append(pd.read_csv(f, header=0, \n",
    "                              names = [\"class_id\", \"class_name\", \"x\", \"y\", \"width\", \"height\"]) )\n",
    "  target_data = pd.concat(target_data, axis=0, ignore_index=True)\n",
    "\n",
    "  # Visualize dataset \n",
    "  print(f'\\n {d} - Bird Species Distribution')\n",
    "  print(target_data[\"class_name\"].value_counts())\n",
    "  print('\\n')"
   ]
  },
  {
   "cell_type": "markdown",
   "metadata": {
    "id": "R_moYO6MEsyq"
   },
   "source": [
    "## Modeling \n",
    "\n",
    "The primary models used to detect birds within the drone images are convolutional neural network (CNN) based object detectors. To implement these models, we utilize [Detectron2](https://github.com/facebookresearch/detectron2), Facebook AI Research's next generation library that provides state-of-the-art detection and segmentation algorithms. \n",
    "\n"
   ]
  },
  {
   "cell_type": "markdown",
   "metadata": {
    "id": "yU-y99FBF7nm"
   },
   "source": [
    "### Setup dataloaders \n",
    "\n",
    "The following cell registers the training, validation, and testing datasets with Detectron2's dataset catalogs. Note that we register both a version that utilizes both a singular \"bird-only\" label and the bird species labels. \n"
   ]
  },
  {
   "cell_type": "code",
   "execution_count": null,
   "metadata": {
    "id": "K5ruFu59cxbp"
   },
   "outputs": [],
   "source": [
    "from Audubon_F21.utils.dataloader import register_datasets\n",
    "\n",
    "data_dir = './data/split'\n",
    "img_ext='.JPEG'\n",
    "dirs = [os.path.join(data_dir,d) for d in os.listdir(data_dir)]\n",
    "\n",
    "# Bird species used by object detector. Species contained in dataset that are \n",
    "# not contained in this list will be categorized as an \"Unknown Bird\"\n",
    "BIRD_SPECIES = [\"Brown Pelican\", \"Laughing Gull\", \"Mixed Tern\",\n",
    "                \"Great Blue Heron\",\"Great Egret/White Morph\"]\n",
    "\n",
    "# Bounding box colors for bird species (used when plotting images)\n",
    "BIRD_SPECIES_COLORS = [(255,0,0), (255,153,51), (0, 255, 0), \n",
    "                       (0,0,255), (255, 51, 255)]\n",
    "\n",
    "register_datasets(dirs,img_ext,BIRD_SPECIES,bird_species_colors=BIRD_SPECIES_COLORS)"
   ]
  },
  {
   "cell_type": "markdown",
   "metadata": {
    "id": "PVGJPdoKF-mj"
   },
   "source": [
    "### Training \n",
    "\n",
    "The following cells train a RetinaNet and Faster R-CNN model with a ResNet-50 FPN backbone. The model weights are initialized from a model pretrained on the MS COCO dataset. The training loop is based on Detectron2's Default Trainer.  Hyperparameters can be tweaked! "
   ]
  },
  {
   "cell_type": "markdown",
   "metadata": {
    "id": "cq7HuVsoKQET"
   },
   "source": [
    "#### Bird-only model\n",
    "\n",
    "The bird-only model simplies localizes all birds and does not distiguish bird species. We utilize RetinaNet for faster performance rather than accuracy. "
   ]
  },
  {
   "cell_type": "code",
   "execution_count": null,
   "metadata": {
    "id": "R7pAw0SSKkh5"
   },
   "outputs": [],
   "source": [
    "from detectron2.utils.logger import setup_logger\n",
    "from detectron2.config import get_cfg\n",
    "from detectron2 import model_zoo\n",
    "from Audubon_F21.utils.trainer import Trainer\n",
    "\n",
    "# setup training logger \n",
    "setup_logger()\n",
    "\n",
    "model_name = \"retinanet_R_50_FPN_1x\"\n",
    "\n",
    "# Create detectron2 config \n",
    "cfg = get_cfg()\n",
    "# add project-specific config (e.g., TensorMask) here if you're not running a model in detectron2's core library\n",
    "cfg.merge_from_file(model_zoo.get_config_file(f\"COCO-Detection/{model_name}.yaml\"))\n",
    "# Get pretrained model from MS COCO\n",
    "cfg.MODEL.WEIGHTS = model_zoo.get_checkpoint_url(f\"COCO-Detection/{model_name}.yaml\")\n",
    "\n",
    "# add datasets used for training and validation \n",
    "cfg.DATASETS.TRAIN = (\"birds_only_train\",)\n",
    "cfg.DATASETS.TEST = (\"birds_only_val\",)\n",
    "\n",
    "cfg.DATALOADER.NUM_WORKERS = 2\n",
    "cfg.SOLVER.IMS_PER_BATCH = 8\n",
    "cfg.SOLVER.BASE_LR = 1e-3 # pick a good LR\n",
    "cfg.SOLVER.GAMMA = 0.1 # pick a good LR\n",
    "cfg.SOLVER.WARMUP_ITERS = 1\n",
    "cfg.MODEL.RETINANET.NUM_CLASSES = 1\n",
    "cfg.SOLVER.MAX_ITER = 1000\n",
    "cfg.SOLVER.STEPS = [500,]\n",
    "cfg.SOLVER.CHECKPOINT_PERIOD = 500\n",
    "\n",
    "cfg.OUTPUT_DIR = f\"./output/multibirds_{model_name}\"\n",
    "os.makedirs(cfg.OUTPUT_DIR, exist_ok=True)\n",
    "\n",
    "# train on bird species\n",
    "trainer = Trainer(cfg)\n",
    "trainer.resume_or_load(resume=False)\n",
    "trainer.train()"
   ]
  },
  {
   "cell_type": "markdown",
   "metadata": {
    "id": "IfDQZrLuKkn_"
   },
   "source": [
    "#### Bird species \n",
    "\n",
    "The bird species model both localizes and classifies bird species. We registered the species to be classifed in the above dataloader (see BIRD_SPECIES list). We utilize Faster R-CNN for better performance. "
   ]
  },
  {
   "cell_type": "code",
   "execution_count": null,
   "metadata": {
    "id": "gmB4XbGUdI0u"
   },
   "outputs": [],
   "source": [
    "from detectron2.utils.logger import setup_logger\n",
    "from detectron2.config import get_cfg\n",
    "from detectron2 import model_zoo\n",
    "from Audubon_F21.utils.trainer import Trainer\n",
    "\n",
    "# setup training logger \n",
    "setup_logger()\n",
    "\n",
    "model_name = \"faster_rcnn_R_50_FPN_1x\"\n",
    "\n",
    "# Create detectron2 config \n",
    "cfg = get_cfg()\n",
    "# add project-specific config (e.g., TensorMask) here if you're not running a model in detectron2's core library\n",
    "cfg.merge_from_file(model_zoo.get_config_file(f\"COCO-Detection/{model_name}.yaml\"))\n",
    "# Get pretrained model from MS COCO\n",
    "cfg.MODEL.WEIGHTS = model_zoo.get_checkpoint_url(f\"COCO-Detection/{model_name}.yaml\")\n",
    "\n",
    "# add datasets used for training and validation \n",
    "cfg.DATASETS.TRAIN = (\"birds_species_train\",)\n",
    "cfg.DATASETS.TEST = (\"birds_species_val\",)\n",
    "\n",
    "cfg.DATALOADER.NUM_WORKERS = 2\n",
    "cfg.SOLVER.IMS_PER_BATCH = 8\n",
    "cfg.SOLVER.BASE_LR = 1e-3 # pick a good LR\n",
    "cfg.SOLVER.GAMMA = 0.1 # pick a good LR\n",
    "cfg.SOLVER.WARMUP_ITERS = 1\n",
    "cfg.MODEL.ROI_HEADS.NUM_CLASSES = len(BIRD_SPECIES)\n",
    "cfg.SOLVER.MAX_ITER = 1000\n",
    "cfg.SOLVER.STEPS = [500,]\n",
    "cfg.SOLVER.CHECKPOINT_PERIOD = 500\n",
    "\n",
    "cfg.OUTPUT_DIR = f\"./output/multibirds_{model_name}\"\n",
    "os.makedirs(cfg.OUTPUT_DIR, exist_ok=True)\n",
    "\n",
    "# train on bird species\n",
    "trainer = Trainer(cfg)\n",
    "trainer.resume_or_load(resume=False)\n",
    "trainer.train()"
   ]
  },
  {
   "cell_type": "markdown",
   "metadata": {
    "id": "o8liZIl4GCvV"
   },
   "source": [
    "### Evaluation\n",
    "\n",
    "The following cell outputs various evaluation metrics, plots, and images. Please read more about the [COCO evaluation metrics](https://cocodataset.org/#detection-eval) to understand how the AP metrics are calculated. "
   ]
  },
  {
   "cell_type": "markdown",
   "metadata": {
    "id": "hE1OYaOPKf1s"
   },
   "source": [
    "#### Bird-only"
   ]
  },
  {
   "cell_type": "code",
   "execution_count": null,
   "metadata": {
    "id": "oi41HGjtKf-_"
   },
   "outputs": [],
   "source": [
    "from detectron2.engine import DefaultPredictor\n",
    "from Audubon_F21.utils.evaluation import plot_precision_recall\n",
    "\n",
    "cfg.MODEL.WEIGHTS = \"./output/bird_only_retinanet_R_50_FPN_1x/model_final.pth\" # path to the model we just trained\n",
    "predictor = DefaultPredictor(cfg)\n",
    "\n",
    "print('validation inference:')\n",
    "val_precisions, val_max_recalls = get_precisions_recalls(cfg, predictor, \"birds_only_val\")\n",
    "plot_precision_recall(val_precisions, val_max_recalls, [\"Bird\"])\n",
    "\n",
    "print('test inference:')\n",
    "test_precisions, test_max_recalls = get_precisions_recalls(cfg, predictor, \"birds_only_test\")\n",
    "plot_precision_recall(test_precisions, test_max_recalls, [\"Bird\"])\n",
    "\n",
    "# Plot examples of detections on validation and testing tiled images \n",
    "for d in [\"val\", \"test\"]:\n",
    "    dataset_dicts = DatasetCatalog.get(f\"birds_only_{d}\")\n",
    "    print(f'\\n {d} examples:')\n",
    "    for k in random.sample(dataset_dicts, 2):\n",
    "        im = cv2.imread(k[\"file_name\"])\n",
    "        outputs = predictor(im)\n",
    "        outputs = outputs[\"instances\"].to(\"cpu\")\n",
    "        outputs = outputs[outputs.scores > 0.5]\n",
    "        v = Visualizer(im[:, :, ::-1],\n",
    "                        metadata=MetadataCatalog.get(f\"birds_only_{d}\"),\n",
    "                        scale=0.5)\n",
    "        out = v.draw_instance_predictions(outputs)\n",
    "        cv2.imshow(f'{d} prediction {i}',out.get_image()[:, :, ::-1])"
   ]
  },
  {
   "cell_type": "markdown",
   "metadata": {
    "id": "nmrAC_sTKd77"
   },
   "source": [
    "#### Bird species "
   ]
  },
  {
   "cell_type": "code",
   "execution_count": null,
   "metadata": {
    "id": "vkypxNYPqUW3"
   },
   "outputs": [],
   "source": [
    "from detectron2.engine import DefaultPredictor\n",
    "from Audubon_F21.utils.evaluation import plot_precision_recall\n",
    "\n",
    "cfg.MODEL.WEIGHTS = \"./output/multibirds_faster_rcnn_R_50_FPN_1x/model_final.pth\" # path to the model we just trained\n",
    "predictor = DefaultPredictor(cfg)\n",
    "\n",
    "print('validation inference:')\n",
    "val_precisions, val_max_recalls = get_precisions_recalls(cfg, predictor, \"birds_species_val\")\n",
    "plot_precision_recall(val_precisions, val_max_recalls, BIRD_SPECIES + [\"Unknown Bird\"],\n",
    "                      BIRD_SPECIES_COLORS + [(0, 0, 0)])\n",
    "\n",
    "print('test inference:')\n",
    "test_precisions, test_max_recalls = get_precisions_recalls(cfg, predictor, \"birds_species_test\")\n",
    "plot_precision_recall(test_precisions, test_max_recalls, BIRD_SPECIES + [\"Unknown Bird\"],\n",
    "                      BIRD_SPECIES_COLORS + [(0, 0, 0)])\n",
    "\n",
    "# Plot examples of detections on validation and testing tiled images \n",
    "for d in [\"val\", \"test\"]:\n",
    "    dataset_dicts = DatasetCatalog.get(f\"birds_species_{d}\")\n",
    "    print(f'\\n {d} examples:')\n",
    "    for k in random.sample(dataset_dicts, 2):\n",
    "        im = cv2.imread(k[\"file_name\"])\n",
    "        outputs = predictor(im)\n",
    "        outputs = outputs[\"instances\"].to(\"cpu\")\n",
    "        outputs = outputs[outputs.scores > 0.5]\n",
    "        v = Visualizer(im[:, :, ::-1],\n",
    "                        metadata=MetadataCatalog.get(f\"birds_species_{d}\"),\n",
    "                        scale=0.5,\n",
    "                        instance_mode=ColorMode.SEGMENTATION)\n",
    "        out = v.draw_instance_predictions(outputs)\n",
    "        cv2.imshow(f'{d} prediction {i}',out.get_image()[:, :, ::-1])"
   ]
  },
  {
   "cell_type": "markdown",
   "metadata": {
    "id": "mjFXDR2GFvG6"
   },
   "source": [
    "## Running trained model on dataset\n",
    "\n",
    "The following cells run a pretrained model on a dataset containing only raw images. It generates an output csv file containing the predicted bounding boxes after non-maximal suppression. \n"
   ]
  },
  {
   "cell_type": "markdown",
   "metadata": {
    "id": "IVOe51dbBIgs"
   },
   "source": [
    "### Tiling\n",
    "\n",
    "The tiling step in the detection pipeline is done using a sliding window. The sub-images are deliberately generated to have a significant proportion of overlapping with adjacent sub-images. The level of overlapping can be specified by setting a parameter. The reason why we want to have the overlapping is because we can ensure that there is at least one complete version of each bird in one of the sub-images. We then try to eliminate overlapping predicted bounding boxes for the same bird by using non-maximum suppression.\n",
    "\n"
   ]
  },
  {
   "cell_type": "code",
   "execution_count": null,
   "metadata": {
    "id": "SMbdS6L3Elbr"
   },
   "outputs": [],
   "source": [
    "from Audubon_F21.utils.cropping import crop_dataset_img_only\n",
    "\n",
    "# create folder to contain tiled images\n",
    "!rm -rf './data/crop'\n",
    "!mkdir -p './data/crop'\n",
    "\n",
    "# perform tiling on images \n",
    "data_dir = './data/raw' # data directory folder \n",
    "output_dir = './data/crop'\n",
    "img_ext = '.JPG'\n",
    "CROP_WIDTH = 640 \n",
    "CROP_HEIGHT = 640\n",
    "SLIDING_SIZE = 400 \n",
    "crop_dataset_img_only(data_dir, img_ext, output_dir, crop_height=CROP_HEIGHT, crop_width=CROP_WIDTH, sliding_size=SLIDING_SIZE)"
   ]
  },
  {
   "cell_type": "markdown",
   "metadata": {
    "id": "qoowvdjRBK1w"
   },
   "source": [
    "### Run pipeline"
   ]
  },
  {
   "cell_type": "code",
   "execution_count": null,
   "metadata": {
    "id": "K62BnBAi9_EN"
   },
   "outputs": [],
   "source": [
    "from detectron2.config import get_cfg\n",
    "from detectron2 import model_zoo\n",
    "from detectron2.engine import DefaultPredictor\n",
    "from Audubon_F21.utils.evaluation import evaluate_full_pipeline\n",
    "\n",
    "# create list of tiled images to be run predictor on \n",
    "eval_file_lst = []\n",
    "eval_file_lst = eval_file_lst + glob.glob('./data/crop/*.JPEG')\n",
    "\n",
    "# Create detectron2 config and predictor \n",
    "cfg = get_cfg()\n",
    "# add project-specific config (e.g., TensorMask) here if you're not running a model in detectron2's core library\n",
    "cfg.merge_from_file(model_zoo.get_config_file(\"COCO-Detection/faster_rcnn_R_50_FPN_1x.yaml\"))\n",
    "cfg.MODEL.ROI_HEADS.SCORE_THRESH_TEST = 0.5  # set threshold for this model\n",
    "# download model weights\n",
    "!gdown -q https://drive.google.com/uc?id=1-f_INg5D0yG7AJUkuSJUcIl6BSaf-smR \n",
    "# load model weights \n",
    "cfg.MODEL.WEIGHTS = \"./model_final.pth\"\n",
    "\n",
    "BIRD_SPECIES = [\"Brown Pelican\", \"Laughing Gull\", \"Mixed Tern\",\n",
    "                \"Great Blue Heron\",\"Great Egret/White Morph\"]\n",
    "SPECIES_MAP = {0: 'Brown Pelican', 1: 'Laughing Gull', 2: 'Mixed Tern', 3: 'Great Blue Heron',\n",
    "               4: 'Great Egret/White Morph', 5: 'Other/Unknown'}\n",
    "\n",
    "cfg.DATALOADER.NUM_WORKERS = 4\n",
    "cfg.MODEL.ROI_HEADS.NUM_CLASSES = len(BIRD_SPECIES) \n",
    "\n",
    "# Create default predictor to run inference \n",
    "predictor = DefaultPredictor(cfg)\n",
    "RAW_IMG_WIDTH = 8192\n",
    "RAW_IMG_HEIGHT = 5460\n",
    "\n",
    "# Run evaluation \n",
    "output_df = evaluate_full_pipeline(eval_file_lst, predictor, SPECIES_MAP, RAW_IMG_WIDTH, RAW_IMG_HEIGHT,\n",
    "                           CROP_WIDTH, CROP_HEIGHT, SLIDING_SIZE)"
   ]
  },
  {
   "cell_type": "markdown",
   "metadata": {
    "id": "sDetAeyFBPtP"
   },
   "source": [
    "### Download annotations as CSV file \n"
   ]
  },
  {
   "cell_type": "code",
   "execution_count": null,
   "metadata": {
    "id": "hrBccu--38Ho"
   },
   "outputs": [],
   "source": [
    "from google.colab import files\n",
    "output_df.to_csv('output.csv')\n",
    "files.download('output.csv') "
   ]
  }
 ],
 "metadata": {
  "accelerator": "GPU",
  "colab": {
   "authorship_tag": "ABX9TyMtFjtOerH5KNQRHS/Mz6hg",
   "collapsed_sections": [],
   "include_colab_link": true,
   "name": "Audubon-Bird-Detection-Tutorial.ipynb",
   "provenance": []
  },
  "instance_type": "ml.t3.medium",
  "kernelspec": {
   "display_name": "Python 3 (PyTorch 1.8 Python 3.6 CPU Optimized)",
   "language": "python",
   "name": "python3__SAGEMAKER_INTERNAL__arn:aws:sagemaker:us-east-1:081325390199:image/1.8.1-cpu-py36"
  },
  "language_info": {
   "codemirror_mode": {
    "name": "ipython",
    "version": 3
   },
   "file_extension": ".py",
   "mimetype": "text/x-python",
   "name": "python",
   "nbconvert_exporter": "python",
   "pygments_lexer": "ipython3",
   "version": "3.6.13"
  }
 },
 "nbformat": 4,
 "nbformat_minor": 4
}
