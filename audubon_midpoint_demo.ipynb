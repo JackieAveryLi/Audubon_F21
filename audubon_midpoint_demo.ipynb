{
  "cells": [
    {
      "attachments": {},
      "cell_type": "markdown",
      "metadata": {
        "id": "ak0FhAzblp-Y"
      },
      "source": [
        "# **D2K Team Audubon Spring 2023 Mid-Semester Software Demo**"
      ]
    },
    {
      "cell_type": "markdown",
      "metadata": {
        "id": "rZ2i9rxUrRtA"
      },
      "source": [
        "This notebook contains a demonstration for training a bird detection model using UAV images provided by Houston Audubon. Created by students from the spring 2023 D2K capstone project course at Rice University.\n",
        "\n",
        "The notebook is divided into four parts:\n",
        "  1. Installation \n",
        "  2. Data processing\n",
        "  3. Data visualization\n",
        "  4. Modeling"
      ]
    },
    {
      "attachments": {},
      "cell_type": "markdown",
      "metadata": {
        "id": "3mjPsyNHsk4g"
      },
      "source": [
        "## Part 1 - Installation instructions for Colab \n",
        "\n",
        "Import necessary packages, load helper functions from Github and load dataset from Google Drive."
      ]
    },
    {
      "cell_type": "code",
      "execution_count": 18,
      "metadata": {},
      "outputs": [],
      "source": [
        "import os\n",
        "\n",
        "# Install helper functions from Github.\n",
        "USER = \"RiceD2KLab\" \n",
        "REPO = \"Audubon_F21\"\n",
        "LIB = \"audubon\"\n",
        "\n",
        "if not os.path.isdir(LIB):\n",
        "    !git clone https://github.com/{USER}/{REPO}/{LIB}.git --quiet"
      ]
    },
    {
      "cell_type": "code",
      "execution_count": 19,
      "metadata": {},
      "outputs": [],
      "source": [
        "import torch\n",
        "import audubon.utils.data_processing as dp\n",
        "import audubon.utils.data_vis as vis\n",
        "from audubon.const import *\n",
        "from audubon.train import *"
      ]
    },
    {
      "cell_type": "code",
      "execution_count": 20,
      "metadata": {
        "id": "FgjQ8c2z6w4I"
      },
      "outputs": [],
      "source": [
        "# Create folders within working directory.\n",
        "PLOTS_PATH = \"./plots/\"\n",
        "DATA_PATH = \"./data/\"\n",
        "\n",
        "# Create data objects for machine learning model.\n",
        "DEVICE = torch.device('cuda') if torch.cuda.is_available() else torch.device('cpu')\n",
        "DATALOADERS = {}\n",
        "MODEL_OPTIM = {} # Model and optimizer pairs."
      ]
    },
    {
      "cell_type": "code",
      "execution_count": null,
      "metadata": {
        "id": "zQsOn2ld6w4I"
      },
      "outputs": [],
      "source": [
        "# Download UAV image and annotation dataset.\n",
        "\n",
        "def make_dirs():\n",
        "    if not os.path.isdir(PLOTS_PATH):\n",
        "        os.mkdir(PLOTS_PATH)\n",
        "    if not os.path.isdir(DATA_PATH):\n",
        "        os.mkdir(DATA_PATH)\n",
        "        #Users can swap the below Google drive link with another dataset.\n",
        "        !gdown -q \"1hoP1ev8Npj5m0MZWZU7LpjU9c8JYYoFe&confirm=t\"\n",
        "        !unzip -q './F21-S22-Combined-D2K-Audubon.zip' -d './data/'\n",
        "\n",
        "make_dirs()"
      ]
    },
    {
      "attachments": {},
      "cell_type": "markdown",
      "metadata": {
        "id": "cmT2eQrAm3dD"
      },
      "source": [
        "## Part 2 - Data processing\n",
        "\n",
        "Load dataset and add hierarchical classifier columns."
      ]
    },
    {
      "cell_type": "code",
      "execution_count": null,
      "metadata": {
        "id": "FaEiMdVe6w4J"
      },
      "outputs": [],
      "source": [
        "# Add JPG and CSV file names to a dictionary (makes referencing the files easier).\n",
        "\n",
        "def test_get_file_names():\n",
        "    ''' Test get_file_names() '''\n",
        "    csv_files = dp.get_file_names(DATA_PATH + 'Good annotations/', 'csv')\n",
        "    jpg_files = dp.get_file_names(DATA_PATH + 'Good annotations/', 'jpg')\n",
        "    FILES['dataset'] = {'jpg': jpg_files, 'csv': csv_files}\n",
        "    print(FILES['dataset'])\n",
        "\n",
        "test_get_file_names()"
      ]
    },
    {
      "cell_type": "code",
      "execution_count": null,
      "metadata": {
        "colab": {
          "base_uri": "https://localhost:8080/"
        },
        "id": "35XEbuMk6w4J",
        "outputId": "20959ab2-4466-4929-b408-c910aa8cc3c6"
      },
      "outputs": [
        {
          "name": "stdout",
          "output_type": "stream",
          "text": [
            "      class_id                       class_name     x     y  width  height  \\\n",
            "0        BCNHA  Black-Crowned Night Heron Adult  4284   828     73     108   \n",
            "1        BCNHA  Black-Crowned Night Heron Adult  4244   883    101      63   \n",
            "2        BCNHA  Black-Crowned Night Heron Adult  3936   771     93      91   \n",
            "3        BCNHA  Black-Crowned Night Heron Adult  3835   807     57      99   \n",
            "4        BCNHA  Black-Crowned Night Heron Adult   370   518     68      57   \n",
            "...        ...                              ...   ...   ...    ...     ...   \n",
            "23073    MTRNF                Mixed Tern Flying  3410  3897    296     144   \n",
            "23074    MTRNF                Mixed Tern Flying  2410  4398     62      88   \n",
            "23075    MTRNF                Mixed Tern Flying  2751  3431     69     120   \n",
            "23076    MTRNF                Mixed Tern Flying  2816  3686     89     119   \n",
            "23077    MTRNF                Mixed Tern Flying  2796  3849    144      88   \n",
            "\n",
            "      group_id       group_name  \n",
            "0         DARK  Large Dark Bird  \n",
            "1         DARK  Large Dark Bird  \n",
            "2         DARK  Large Dark Bird  \n",
            "3         DARK  Large Dark Bird  \n",
            "4         DARK  Large Dark Bird  \n",
            "...        ...              ...  \n",
            "23073     MTRN       Mixed Tern  \n",
            "23074     MTRN       Mixed Tern  \n",
            "23075     MTRN       Mixed Tern  \n",
            "23076     MTRN       Mixed Tern  \n",
            "23077     MTRN       Mixed Tern  \n",
            "\n",
            "[23078 rows x 8 columns]\n"
          ]
        }
      ],
      "source": [
        "# Add hierarchical bird group columns to CSV.\n",
        "\n",
        "def test_add_col():\n",
        "    ''' Test add_col() '''\n",
        "    # Add group IDs\n",
        "    values_dict = {}\n",
        "    for key, vals in GROUPS.items():\n",
        "        for val in vals:\n",
        "            values_dict[val] = key\n",
        "    frame = dp.concat_frames(FILES['dataset']['csv'], COL_NAMES)\n",
        "    FRAMES['combined annotations'] = dp.add_col(frame, 'group_id', 'class_id', values_dict)\n",
        "\n",
        "    # Add group names\n",
        "    FRAMES['combined annotations'] = dp.add_col(FRAMES['combined annotations'], 'group_name', 'group_id', GROUP_NAMES)\n",
        "    \n",
        "    print(FRAMES['combined annotations'])\n",
        "\n",
        "test_add_col()"
      ]
    },
    {
      "cell_type": "code",
      "execution_count": null,
      "metadata": {
        "id": "mHuDndTo6w4K"
      },
      "outputs": [],
      "source": [
        "# Split the dataset into training set, test set, and validation set.\n",
        "\n",
        "def test_split_img_annos():\n",
        "    ''' Test split_img_annos() '''\n",
        "    FILES['trainset'], FILES['testset'], FILES['valset'] = dp.split_img_annos(\n",
        "        # Here we will use a 0.8, 0.1, 0.1 test/train/valid split. Users can modify these parameters in the line below.\n",
        "        FILES['dataset']['jpg'], FILES['dataset']['csv'], (0.8, 0.1, 0.1), seed=2023)\n",
        "test_split_img_annos()"
      ]
    },
    {
      "attachments": {},
      "cell_type": "markdown",
      "metadata": {
        "id": "oERgIfcAn-kl"
      },
      "source": [
        "## Part 3 - Data visualization \n",
        "\n",
        "Plot histograms for bird species and groups, and plot a UAV image with overlaid bounding boxes."
      ]
    },
    {
      "cell_type": "code",
      "execution_count": null,
      "metadata": {
        "colab": {
          "base_uri": "https://localhost:8080/",
          "height": 1000
        },
        "id": "67etCiRu6w4K",
        "outputId": "4982479c-2f06-4f7f-ac73-3560738be437"
      },
      "outputs": [
        {
          "data": {
            "image/png": "[encoded data removed]",
            "text/plain": [
              "<Figure size 1000x600 with 1 Axes>"
            ]
          },
          "metadata": {},
          "output_type": "display_data"
        },
        {
          "data": {
            "image/png": "[encoded data removed]",
            "text/plain": [
              "<Figure size 1000x600 with 1 Axes>"
            ]
          },
          "metadata": {},
          "output_type": "display_data"
        },
        {
          "data": {
            "image/png": "[encoded data removed]",
            "text/plain": [
              "<Figure size 1000x600 with 1 Axes>"
            ]
          },
          "metadata": {},
          "output_type": "display_data"
        },
        {
          "data": {
            "image/png": "[encoded data removed]",
            "text/plain": [
              "<Figure size 1000x600 with 1 Axes>"
            ]
          },
          "metadata": {},
          "output_type": "display_data"
        }
      ],
      "source": [
        "# Make histograms for bird species classes and hierarchical groups. \n",
        "# We can also view species distributions within hierarchical groups.\n",
        "\n",
        "def test_plot_distribution():\n",
        "    ''' Test plot_distribution() ''' \n",
        "    # Plots are saved to 'plots' folder in working directory\n",
        "    vis.plot_distribution(FRAMES['combined annotations'], \"class_name\", \n",
        "                          (\"Frequency\", \"Bird Species\", \"Bird Species Distribution\"), PLOTS_PATH, filt=100)\n",
        "    vis.plot_distribution(FRAMES['combined annotations'], \"group_name\", \n",
        "                          (\"Frequency\", \"Bird Group\", \"Bird Group Distribution\"), PLOTS_PATH)\n",
        "    vis.plot_distribution(FRAMES['combined annotations'].loc[FRAMES['combined annotations']['group_id'] == 'BRPE'], \"class_name\", \n",
        "                          (\"Frequency\", \"Bird Species\", \"BRPE Bird Species Distribution\"), PLOTS_PATH)\n",
        "    vis.plot_distribution(FRAMES['combined annotations'].loc[FRAMES['combined annotations']['group_id'] == 'LGHT'], \"class_name\", \n",
        "                          (\"Frequency\", \"Bird Species\", \"LGHT Bird Species Distribution\"), PLOTS_PATH)            \n",
        "\n",
        "test_plot_distribution()"
      ]
    },
    {
      "cell_type": "code",
      "execution_count": null,
      "metadata": {
        "id": "jmSpaIBp6w4L"
      },
      "outputs": [],
      "source": [
        "# Load a UAV image overlaid with annotation boxes. \n",
        "\n",
        "def test_plot_boxes():\n",
        "    ''' Test plot_boxes() '''\n",
        "    # Image is added to the 'plots' folder in working directory. \n",
        "    vis.plot_boxes(FILES['trainset']['jpg'][10], FILES['trainset']['csv'][10], 'Annotations', PLOTS_PATH, show=True)\n",
        "\n",
        "test_plot_boxes()"
      ]
    },
    {
      "cell_type": "markdown",
      "metadata": {
        "id": "hYZSdyW5o2cP"
      },
      "source": [
        "## Part 4 - Train bird detection model"
      ]
    },
    {
      "cell_type": "code",
      "execution_count": null,
      "metadata": {
        "id": "XZBJJJBY6w4L"
      },
      "outputs": [],
      "source": [
        "# Load training and test sets in PyTorch (computer vision libary).\n",
        "\n",
        "def test_get_bird_dataloaders():\n",
        "    ''' Test get_bird_dataloaders() '''\n",
        "    trainloader, testloader = get_bird_dataloaders(FILES['trainset'], FILES['testset'])\n",
        "    DATALOADERS['trainset'] = trainloader\n",
        "    DATALOADERS['testset'] = testloader\n",
        "\n",
        "test_get_bird_dataloaders()"
      ]
    },
    {
      "cell_type": "code",
      "execution_count": null,
      "metadata": {
        "colab": {
          "base_uri": "https://localhost:8080/",
          "height": 87,
          "referenced_widgets": [
            "8b277bcc044e421b9cd5e92e3bcd464a",
            "c9303f12d45f44f7bb763b4f5d6637bf",
            "5f28e3e7357b49fbbfad4bdf45c4b4fb",
            "fd3fd056643648c68f60e0ffc42fcb30",
            "951168f4571b4ea4ba990609c690df12",
            "a48be4b59ab44bf9822dfc46389d8164",
            "a1cfb46b0ae14e6391d6ca60a52d103e",
            "0bc25990c1b642aa8f30aeefdcac322a",
            "44669c0bf6504272bdcf8973deca4e85",
            "b4ccbafd25ec4409b3bb22c8c6006cbc",
            "2d0249c0e4cc48dc96ec080f812f68c8"
          ]
        },
        "id": "jnzZD39S6w4L",
        "outputId": "9a291a8e-3fcd-4c9b-85b7-d345844b5949"
      },
      "outputs": [
        {
          "name": "stderr",
          "output_type": "stream",
          "text": [
            "Downloading: \"https://download.pytorch.org/models/fasterrcnn_resnet50_fpn_coco-258fb6c6.pth\" to /root/.cache/torch/hub/checkpoints/fasterrcnn_resnet50_fpn_coco-258fb6c6.pth\n"
          ]
        },
        {
          "data": {
            "application/vnd.jupyter.widget-view+json": {
              "model_id": "8b277bcc044e421b9cd5e92e3bcd464a",
              "version_major": 2,
              "version_minor": 0
            },
            "text/plain": [
              "  0%|          | 0.00/160M [00:00<?, ?B/s]"
            ]
          },
          "metadata": {},
          "output_type": "display_data"
        }
      ],
      "source": [
        "# Create bird detection model using Faster-RCNN with a ResNet50 backbone network.\n",
        "\n",
        "def test_get_detection_model():\n",
        "    MODEL_OPTIM['faster rcnn'] = get_model_and_optim(choice='fasterrcnn_resnet50_fpn')\n",
        "\n",
        "test_get_detection_model()"
      ]
    },
    {
      "cell_type": "code",
      "execution_count": null,
      "metadata": {
        "colab": {
          "background_save": true,
          "base_uri": "https://localhost:8080/"
        },
        "id": "He2lGMoC6w4M",
        "outputId": "c85007a0-5e23-414a-9dc3-793c9b9a0725"
      },
      "outputs": [
        {
          "name": "stderr",
          "output_type": "stream",
          "text": [
            "Epoch 1 of 100: 100%|███████████████████████████| 80/80 [01:30<00:00,  1.13s/it]\n"
          ]
        },
        {
          "name": "stdout",
          "output_type": "stream",
          "text": [
            "Epoch: 1 | Loss: tensor(111.7897, device='cuda:0', grad_fn=<AddBackward0>)\n",
            "\n"
          ]
        },
        {
          "name": "stderr",
          "output_type": "stream",
          "text": [
            "Epoch 2 of 100: 100%|███████████████████████████| 80/80 [01:25<00:00,  1.07s/it]\n"
          ]
        },
        {
          "name": "stdout",
          "output_type": "stream",
          "text": [
            "Epoch: 2 | Loss: tensor(84.5268, device='cuda:0', grad_fn=<AddBackward0>)\n",
            "\n"
          ]
        },
        {
          "name": "stderr",
          "output_type": "stream",
          "text": [
            "Epoch 3 of 100: 100%|███████████████████████████| 80/80 [01:26<00:00,  1.08s/it]\n"
          ]
        },
        {
          "name": "stdout",
          "output_type": "stream",
          "text": [
            "Epoch: 3 | Loss: tensor(78.8034, device='cuda:0', grad_fn=<AddBackward0>)\n",
            "\n"
          ]
        },
        {
          "name": "stderr",
          "output_type": "stream",
          "text": [
            "Epoch 4 of 100: 100%|███████████████████████████| 80/80 [01:26<00:00,  1.08s/it]\n"
          ]
        },
        {
          "name": "stdout",
          "output_type": "stream",
          "text": [
            "Epoch: 4 | Loss: tensor(75.7340, device='cuda:0', grad_fn=<AddBackward0>)\n",
            "\n"
          ]
        },
        {
          "name": "stderr",
          "output_type": "stream",
          "text": [
            "Epoch 5 of 100: 100%|███████████████████████████| 80/80 [01:26<00:00,  1.09s/it]\n"
          ]
        },
        {
          "name": "stdout",
          "output_type": "stream",
          "text": [
            "Epoch: 5 | Loss: tensor(69.8712, device='cuda:0', grad_fn=<AddBackward0>)\n",
            "\n"
          ]
        },
        {
          "name": "stderr",
          "output_type": "stream",
          "text": [
            "Epoch 6 of 100: 100%|███████████████████████████| 80/80 [01:26<00:00,  1.09s/it]\n"
          ]
        },
        {
          "name": "stdout",
          "output_type": "stream",
          "text": [
            "Epoch: 6 | Loss: tensor(68.3339, device='cuda:0', grad_fn=<AddBackward0>)\n",
            "\n"
          ]
        },
        {
          "name": "stderr",
          "output_type": "stream",
          "text": [
            "Epoch 7 of 100: 100%|███████████████████████████| 80/80 [01:27<00:00,  1.09s/it]\n"
          ]
        },
        {
          "name": "stdout",
          "output_type": "stream",
          "text": [
            "Epoch: 7 | Loss: tensor(66.6019, device='cuda:0', grad_fn=<AddBackward0>)\n",
            "\n"
          ]
        },
        {
          "name": "stderr",
          "output_type": "stream",
          "text": [
            "Epoch 8 of 100: 100%|███████████████████████████| 80/80 [01:26<00:00,  1.08s/it]\n"
          ]
        },
        {
          "name": "stdout",
          "output_type": "stream",
          "text": [
            "Epoch: 8 | Loss: tensor(66.2865, device='cuda:0', grad_fn=<AddBackward0>)\n",
            "\n"
          ]
        },
        {
          "name": "stderr",
          "output_type": "stream",
          "text": [
            "Epoch 9 of 100: 100%|███████████████████████████| 80/80 [01:27<00:00,  1.09s/it]\n"
          ]
        },
        {
          "name": "stdout",
          "output_type": "stream",
          "text": [
            "Epoch: 9 | Loss: tensor(62.9980, device='cuda:0', grad_fn=<AddBackward0>)\n",
            "\n"
          ]
        },
        {
          "name": "stderr",
          "output_type": "stream",
          "text": [
            "Epoch 10 of 100: 100%|██████████████████████████| 80/80 [01:26<00:00,  1.08s/it]\n"
          ]
        },
        {
          "name": "stdout",
          "output_type": "stream",
          "text": [
            "Epoch: 10 | Loss: tensor(61.7287, device='cuda:0', grad_fn=<AddBackward0>)\n",
            "\n"
          ]
        },
        {
          "name": "stderr",
          "output_type": "stream",
          "text": [
            "Epoch 11 of 100: 100%|██████████████████████████| 80/80 [01:26<00:00,  1.08s/it]\n"
          ]
        },
        {
          "name": "stdout",
          "output_type": "stream",
          "text": [
            "Epoch: 11 | Loss: tensor(60.0516, device='cuda:0', grad_fn=<AddBackward0>)\n",
            "\n"
          ]
        },
        {
          "name": "stderr",
          "output_type": "stream",
          "text": [
            "Epoch 12 of 100: 100%|██████████████████████████| 80/80 [01:26<00:00,  1.08s/it]\n"
          ]
        },
        {
          "name": "stdout",
          "output_type": "stream",
          "text": [
            "Epoch: 12 | Loss: tensor(58.7213, device='cuda:0', grad_fn=<AddBackward0>)\n",
            "\n"
          ]
        },
        {
          "name": "stderr",
          "output_type": "stream",
          "text": [
            "Epoch 13 of 100: 100%|██████████████████████████| 80/80 [01:26<00:00,  1.08s/it]\n"
          ]
        },
        {
          "name": "stdout",
          "output_type": "stream",
          "text": [
            "Epoch: 13 | Loss: tensor(58.1758, device='cuda:0', grad_fn=<AddBackward0>)\n",
            "\n"
          ]
        },
        {
          "name": "stderr",
          "output_type": "stream",
          "text": [
            "Epoch 14 of 100: 100%|██████████████████████████| 80/80 [01:26<00:00,  1.08s/it]\n"
          ]
        },
        {
          "name": "stdout",
          "output_type": "stream",
          "text": [
            "Epoch: 14 | Loss: tensor(56.5876, device='cuda:0', grad_fn=<AddBackward0>)\n",
            "\n"
          ]
        },
        {
          "name": "stderr",
          "output_type": "stream",
          "text": [
            "Epoch 15 of 100: 100%|██████████████████████████| 80/80 [01:26<00:00,  1.08s/it]\n"
          ]
        },
        {
          "name": "stdout",
          "output_type": "stream",
          "text": [
            "Epoch: 15 | Loss: tensor(53.7676, device='cuda:0', grad_fn=<AddBackward0>)\n",
            "\n"
          ]
        },
        {
          "name": "stderr",
          "output_type": "stream",
          "text": [
            "Epoch 16 of 100: 100%|██████████████████████████| 80/80 [01:26<00:00,  1.08s/it]\n"
          ]
        },
        {
          "name": "stdout",
          "output_type": "stream",
          "text": [
            "Epoch: 16 | Loss: tensor(53.7336, device='cuda:0', grad_fn=<AddBackward0>)\n",
            "\n"
          ]
        },
        {
          "name": "stderr",
          "output_type": "stream",
          "text": [
            "Epoch 17 of 100: 100%|██████████████████████████| 80/80 [01:26<00:00,  1.08s/it]\n"
          ]
        },
        {
          "name": "stdout",
          "output_type": "stream",
          "text": [
            "Epoch: 17 | Loss: tensor(52.4874, device='cuda:0', grad_fn=<AddBackward0>)\n",
            "\n"
          ]
        },
        {
          "name": "stderr",
          "output_type": "stream",
          "text": [
            "Epoch 18 of 100: 100%|██████████████████████████| 80/80 [01:26<00:00,  1.08s/it]\n"
          ]
        },
        {
          "name": "stdout",
          "output_type": "stream",
          "text": [
            "Epoch: 18 | Loss: tensor(51.2156, device='cuda:0', grad_fn=<AddBackward0>)\n",
            "\n"
          ]
        },
        {
          "name": "stderr",
          "output_type": "stream",
          "text": [
            "Epoch 19 of 100: 100%|██████████████████████████| 80/80 [01:25<00:00,  1.07s/it]\n"
          ]
        },
        {
          "name": "stdout",
          "output_type": "stream",
          "text": [
            "Epoch: 19 | Loss: tensor(51.2196, device='cuda:0', grad_fn=<AddBackward0>)\n",
            "\n"
          ]
        },
        {
          "name": "stderr",
          "output_type": "stream",
          "text": [
            "Epoch 20 of 100: 100%|██████████████████████████| 80/80 [01:25<00:00,  1.07s/it]\n"
          ]
        },
        {
          "name": "stdout",
          "output_type": "stream",
          "text": [
            "Epoch: 20 | Loss: tensor(50.3503, device='cuda:0', grad_fn=<AddBackward0>)\n",
            "\n"
          ]
        },
        {
          "name": "stderr",
          "output_type": "stream",
          "text": [
            "Epoch 21 of 100: 100%|██████████████████████████| 80/80 [01:25<00:00,  1.07s/it]\n"
          ]
        },
        {
          "name": "stdout",
          "output_type": "stream",
          "text": [
            "Epoch: 21 | Loss: tensor(48.2233, device='cuda:0', grad_fn=<AddBackward0>)\n",
            "\n"
          ]
        },
        {
          "name": "stderr",
          "output_type": "stream",
          "text": [
            "Epoch 22 of 100: 100%|██████████████████████████| 80/80 [01:26<00:00,  1.08s/it]\n"
          ]
        },
        {
          "name": "stdout",
          "output_type": "stream",
          "text": [
            "Epoch: 22 | Loss: tensor(47.8388, device='cuda:0', grad_fn=<AddBackward0>)\n",
            "\n"
          ]
        },
        {
          "name": "stderr",
          "output_type": "stream",
          "text": [
            "Epoch 23 of 100: 100%|██████████████████████████| 80/80 [01:26<00:00,  1.08s/it]\n"
          ]
        },
        {
          "name": "stdout",
          "output_type": "stream",
          "text": [
            "Epoch: 23 | Loss: tensor(46.4922, device='cuda:0', grad_fn=<AddBackward0>)\n",
            "\n"
          ]
        },
        {
          "name": "stderr",
          "output_type": "stream",
          "text": [
            "Epoch 24 of 100: 100%|██████████████████████████| 80/80 [01:27<00:00,  1.09s/it]\n"
          ]
        },
        {
          "name": "stdout",
          "output_type": "stream",
          "text": [
            "Epoch: 24 | Loss: tensor(47.1722, device='cuda:0', grad_fn=<AddBackward0>)\n",
            "\n"
          ]
        },
        {
          "name": "stderr",
          "output_type": "stream",
          "text": [
            "Epoch 25 of 100: 100%|██████████████████████████| 80/80 [01:26<00:00,  1.08s/it]\n"
          ]
        },
        {
          "name": "stdout",
          "output_type": "stream",
          "text": [
            "Epoch: 25 | Loss: tensor(46.4219, device='cuda:0', grad_fn=<AddBackward0>)\n",
            "\n"
          ]
        },
        {
          "name": "stderr",
          "output_type": "stream",
          "text": [
            "Epoch 26 of 100: 100%|██████████████████████████| 80/80 [01:25<00:00,  1.07s/it]\n"
          ]
        },
        {
          "name": "stdout",
          "output_type": "stream",
          "text": [
            "Epoch: 26 | Loss: tensor(44.6743, device='cuda:0', grad_fn=<AddBackward0>)\n",
            "\n"
          ]
        },
        {
          "name": "stderr",
          "output_type": "stream",
          "text": [
            "Epoch 27 of 100: 100%|██████████████████████████| 80/80 [01:26<00:00,  1.08s/it]\n"
          ]
        },
        {
          "name": "stdout",
          "output_type": "stream",
          "text": [
            "Epoch: 27 | Loss: tensor(42.4575, device='cuda:0', grad_fn=<AddBackward0>)\n",
            "\n"
          ]
        },
        {
          "name": "stderr",
          "output_type": "stream",
          "text": [
            "Epoch 28 of 100: 100%|██████████████████████████| 80/80 [01:26<00:00,  1.09s/it]\n"
          ]
        },
        {
          "name": "stdout",
          "output_type": "stream",
          "text": [
            "Epoch: 28 | Loss: tensor(43.2097, device='cuda:0', grad_fn=<AddBackward0>)\n",
            "\n"
          ]
        },
        {
          "name": "stderr",
          "output_type": "stream",
          "text": [
            "Epoch 29 of 100: 100%|██████████████████████████| 80/80 [01:25<00:00,  1.07s/it]\n"
          ]
        },
        {
          "name": "stdout",
          "output_type": "stream",
          "text": [
            "Epoch: 29 | Loss: tensor(43.6972, device='cuda:0', grad_fn=<AddBackward0>)\n",
            "\n"
          ]
        },
        {
          "name": "stderr",
          "output_type": "stream",
          "text": [
            "Epoch 30 of 100: 100%|██████████████████████████| 80/80 [01:26<00:00,  1.08s/it]\n"
          ]
        },
        {
          "name": "stdout",
          "output_type": "stream",
          "text": [
            "Epoch: 30 | Loss: tensor(44.9094, device='cuda:0', grad_fn=<AddBackward0>)\n",
            "\n"
          ]
        },
        {
          "name": "stderr",
          "output_type": "stream",
          "text": [
            "Epoch 31 of 100: 100%|██████████████████████████| 80/80 [01:26<00:00,  1.08s/it]\n"
          ]
        },
        {
          "name": "stdout",
          "output_type": "stream",
          "text": [
            "Epoch: 31 | Loss: tensor(42.1660, device='cuda:0', grad_fn=<AddBackward0>)\n",
            "\n"
          ]
        },
        {
          "name": "stderr",
          "output_type": "stream",
          "text": [
            "Epoch 32 of 100: 100%|██████████████████████████| 80/80 [01:25<00:00,  1.07s/it]\n"
          ]
        },
        {
          "name": "stdout",
          "output_type": "stream",
          "text": [
            "Epoch: 32 | Loss: tensor(41.0375, device='cuda:0', grad_fn=<AddBackward0>)\n",
            "\n"
          ]
        },
        {
          "name": "stderr",
          "output_type": "stream",
          "text": [
            "Epoch 33 of 100: 100%|██████████████████████████| 80/80 [01:26<00:00,  1.08s/it]\n"
          ]
        },
        {
          "name": "stdout",
          "output_type": "stream",
          "text": [
            "Epoch: 33 | Loss: tensor(39.6646, device='cuda:0', grad_fn=<AddBackward0>)\n",
            "\n"
          ]
        },
        {
          "name": "stderr",
          "output_type": "stream",
          "text": [
            "Epoch 34 of 100: 100%|██████████████████████████| 80/80 [01:26<00:00,  1.08s/it]\n"
          ]
        },
        {
          "name": "stdout",
          "output_type": "stream",
          "text": [
            "Epoch: 34 | Loss: tensor(38.9168, device='cuda:0', grad_fn=<AddBackward0>)\n",
            "\n"
          ]
        },
        {
          "name": "stderr",
          "output_type": "stream",
          "text": [
            "Epoch 35 of 100: 100%|██████████████████████████| 80/80 [01:26<00:00,  1.08s/it]\n"
          ]
        },
        {
          "name": "stdout",
          "output_type": "stream",
          "text": [
            "Epoch: 35 | Loss: tensor(40.4121, device='cuda:0', grad_fn=<AddBackward0>)\n",
            "\n"
          ]
        },
        {
          "name": "stderr",
          "output_type": "stream",
          "text": [
            "Epoch 36 of 100: 100%|██████████████████████████| 80/80 [01:26<00:00,  1.08s/it]\n"
          ]
        },
        {
          "name": "stdout",
          "output_type": "stream",
          "text": [
            "Epoch: 36 | Loss: tensor(39.6650, device='cuda:0', grad_fn=<AddBackward0>)\n",
            "\n"
          ]
        },
        {
          "name": "stderr",
          "output_type": "stream",
          "text": [
            "Epoch 37 of 100: 100%|██████████████████████████| 80/80 [01:26<00:00,  1.08s/it]\n"
          ]
        },
        {
          "name": "stdout",
          "output_type": "stream",
          "text": [
            "Epoch: 37 | Loss: tensor(39.6594, device='cuda:0', grad_fn=<AddBackward0>)\n",
            "\n"
          ]
        },
        {
          "name": "stderr",
          "output_type": "stream",
          "text": [
            "Epoch 38 of 100: 100%|██████████████████████████| 80/80 [01:27<00:00,  1.09s/it]\n"
          ]
        },
        {
          "name": "stdout",
          "output_type": "stream",
          "text": [
            "Epoch: 38 | Loss: tensor(37.3740, device='cuda:0', grad_fn=<AddBackward0>)\n",
            "\n"
          ]
        },
        {
          "name": "stderr",
          "output_type": "stream",
          "text": [
            "Epoch 39 of 100: 100%|██████████████████████████| 80/80 [01:26<00:00,  1.08s/it]\n"
          ]
        },
        {
          "name": "stdout",
          "output_type": "stream",
          "text": [
            "Epoch: 39 | Loss: tensor(37.5687, device='cuda:0', grad_fn=<AddBackward0>)\n",
            "\n"
          ]
        },
        {
          "name": "stderr",
          "output_type": "stream",
          "text": [
            "Epoch 40 of 100: 100%|██████████████████████████| 80/80 [01:26<00:00,  1.08s/it]\n"
          ]
        },
        {
          "name": "stdout",
          "output_type": "stream",
          "text": [
            "Epoch: 40 | Loss: tensor(38.4594, device='cuda:0', grad_fn=<AddBackward0>)\n",
            "\n"
          ]
        },
        {
          "name": "stderr",
          "output_type": "stream",
          "text": [
            "Epoch 41 of 100: 100%|██████████████████████████| 80/80 [01:28<00:00,  1.10s/it]\n"
          ]
        },
        {
          "name": "stdout",
          "output_type": "stream",
          "text": [
            "Epoch: 41 | Loss: tensor(36.7740, device='cuda:0', grad_fn=<AddBackward0>)\n",
            "\n"
          ]
        },
        {
          "name": "stderr",
          "output_type": "stream",
          "text": [
            "Epoch 42 of 100: 100%|██████████████████████████| 80/80 [01:27<00:00,  1.09s/it]\n"
          ]
        },
        {
          "name": "stdout",
          "output_type": "stream",
          "text": [
            "Epoch: 42 | Loss: tensor(35.0868, device='cuda:0', grad_fn=<AddBackward0>)\n",
            "\n"
          ]
        },
        {
          "name": "stderr",
          "output_type": "stream",
          "text": [
            "Epoch 43 of 100: 100%|██████████████████████████| 80/80 [01:26<00:00,  1.08s/it]\n"
          ]
        },
        {
          "name": "stdout",
          "output_type": "stream",
          "text": [
            "Epoch: 43 | Loss: tensor(35.7671, device='cuda:0', grad_fn=<AddBackward0>)\n",
            "\n"
          ]
        },
        {
          "name": "stderr",
          "output_type": "stream",
          "text": [
            "Epoch 44 of 100: 100%|██████████████████████████| 80/80 [01:26<00:00,  1.08s/it]\n"
          ]
        },
        {
          "name": "stdout",
          "output_type": "stream",
          "text": [
            "Epoch: 44 | Loss: tensor(35.1776, device='cuda:0', grad_fn=<AddBackward0>)\n",
            "\n"
          ]
        },
        {
          "name": "stderr",
          "output_type": "stream",
          "text": [
            "Epoch 45 of 100: 100%|██████████████████████████| 80/80 [01:26<00:00,  1.09s/it]\n"
          ]
        },
        {
          "name": "stdout",
          "output_type": "stream",
          "text": [
            "Epoch: 45 | Loss: tensor(34.6583, device='cuda:0', grad_fn=<AddBackward0>)\n",
            "\n"
          ]
        },
        {
          "name": "stderr",
          "output_type": "stream",
          "text": [
            "Epoch 46 of 100: 100%|██████████████████████████| 80/80 [01:26<00:00,  1.08s/it]\n"
          ]
        },
        {
          "name": "stdout",
          "output_type": "stream",
          "text": [
            "Epoch: 46 | Loss: tensor(33.4721, device='cuda:0', grad_fn=<AddBackward0>)\n",
            "\n"
          ]
        },
        {
          "name": "stderr",
          "output_type": "stream",
          "text": [
            "Epoch 47 of 100: 100%|██████████████████████████| 80/80 [01:26<00:00,  1.08s/it]\n"
          ]
        },
        {
          "name": "stdout",
          "output_type": "stream",
          "text": [
            "Epoch: 47 | Loss: tensor(33.2714, device='cuda:0', grad_fn=<AddBackward0>)\n",
            "\n"
          ]
        },
        {
          "name": "stderr",
          "output_type": "stream",
          "text": [
            "Epoch 48 of 100: 100%|██████████████████████████| 80/80 [01:26<00:00,  1.08s/it]\n"
          ]
        },
        {
          "name": "stdout",
          "output_type": "stream",
          "text": [
            "Epoch: 48 | Loss: tensor(35.6419, device='cuda:0', grad_fn=<AddBackward0>)\n",
            "\n"
          ]
        },
        {
          "name": "stderr",
          "output_type": "stream",
          "text": [
            "Epoch 49 of 100: 100%|██████████████████████████| 80/80 [01:26<00:00,  1.08s/it]\n"
          ]
        },
        {
          "name": "stdout",
          "output_type": "stream",
          "text": [
            "Epoch: 49 | Loss: tensor(34.4137, device='cuda:0', grad_fn=<AddBackward0>)\n",
            "\n"
          ]
        },
        {
          "name": "stderr",
          "output_type": "stream",
          "text": [
            "Epoch 50 of 100: 100%|██████████████████████████| 80/80 [01:26<00:00,  1.08s/it]\n"
          ]
        },
        {
          "name": "stdout",
          "output_type": "stream",
          "text": [
            "Epoch: 50 | Loss: tensor(33.7107, device='cuda:0', grad_fn=<AddBackward0>)\n",
            "\n"
          ]
        },
        {
          "name": "stderr",
          "output_type": "stream",
          "text": [
            "Epoch 51 of 100: 100%|██████████████████████████| 80/80 [01:27<00:00,  1.09s/it]\n"
          ]
        },
        {
          "name": "stdout",
          "output_type": "stream",
          "text": [
            "Epoch: 51 | Loss: tensor(31.9625, device='cuda:0', grad_fn=<AddBackward0>)\n",
            "\n"
          ]
        },
        {
          "name": "stderr",
          "output_type": "stream",
          "text": [
            "Epoch 52 of 100: 100%|██████████████████████████| 80/80 [01:27<00:00,  1.09s/it]\n"
          ]
        },
        {
          "name": "stdout",
          "output_type": "stream",
          "text": [
            "Epoch: 52 | Loss: tensor(32.3478, device='cuda:0', grad_fn=<AddBackward0>)\n",
            "\n"
          ]
        },
        {
          "name": "stderr",
          "output_type": "stream",
          "text": [
            "Epoch 53 of 100: 100%|██████████████████████████| 80/80 [01:25<00:00,  1.07s/it]\n"
          ]
        },
        {
          "name": "stdout",
          "output_type": "stream",
          "text": [
            "Epoch: 53 | Loss: tensor(32.1632, device='cuda:0', grad_fn=<AddBackward0>)\n",
            "\n"
          ]
        },
        {
          "name": "stderr",
          "output_type": "stream",
          "text": [
            "Epoch 54 of 100: 100%|██████████████████████████| 80/80 [01:26<00:00,  1.08s/it]\n"
          ]
        },
        {
          "name": "stdout",
          "output_type": "stream",
          "text": [
            "Epoch: 54 | Loss: tensor(30.6202, device='cuda:0', grad_fn=<AddBackward0>)\n",
            "\n"
          ]
        },
        {
          "name": "stderr",
          "output_type": "stream",
          "text": [
            "Epoch 55 of 100: 100%|██████████████████████████| 80/80 [01:26<00:00,  1.08s/it]\n"
          ]
        },
        {
          "name": "stdout",
          "output_type": "stream",
          "text": [
            "Epoch: 55 | Loss: tensor(30.7601, device='cuda:0', grad_fn=<AddBackward0>)\n",
            "\n"
          ]
        },
        {
          "name": "stderr",
          "output_type": "stream",
          "text": [
            "Epoch 56 of 100: 100%|██████████████████████████| 80/80 [01:27<00:00,  1.10s/it]\n"
          ]
        },
        {
          "name": "stdout",
          "output_type": "stream",
          "text": [
            "Epoch: 56 | Loss: tensor(30.4755, device='cuda:0', grad_fn=<AddBackward0>)\n",
            "\n"
          ]
        },
        {
          "name": "stderr",
          "output_type": "stream",
          "text": [
            "Epoch 57 of 100: 100%|██████████████████████████| 80/80 [01:26<00:00,  1.08s/it]\n"
          ]
        },
        {
          "name": "stdout",
          "output_type": "stream",
          "text": [
            "Epoch: 57 | Loss: tensor(30.0402, device='cuda:0', grad_fn=<AddBackward0>)\n",
            "\n"
          ]
        },
        {
          "name": "stderr",
          "output_type": "stream",
          "text": [
            "Epoch 58 of 100: 100%|██████████████████████████| 80/80 [01:26<00:00,  1.08s/it]\n"
          ]
        },
        {
          "name": "stdout",
          "output_type": "stream",
          "text": [
            "Epoch: 58 | Loss: tensor(29.0656, device='cuda:0', grad_fn=<AddBackward0>)\n",
            "\n"
          ]
        },
        {
          "name": "stderr",
          "output_type": "stream",
          "text": [
            "Epoch 59 of 100: 100%|██████████████████████████| 80/80 [01:27<00:00,  1.09s/it]\n"
          ]
        },
        {
          "name": "stdout",
          "output_type": "stream",
          "text": [
            "Epoch: 59 | Loss: tensor(28.6950, device='cuda:0', grad_fn=<AddBackward0>)\n",
            "\n"
          ]
        },
        {
          "name": "stderr",
          "output_type": "stream",
          "text": [
            "Epoch 60 of 100: 100%|██████████████████████████| 80/80 [01:26<00:00,  1.08s/it]\n"
          ]
        },
        {
          "name": "stdout",
          "output_type": "stream",
          "text": [
            "Epoch: 60 | Loss: tensor(29.2921, device='cuda:0', grad_fn=<AddBackward0>)\n",
            "\n"
          ]
        },
        {
          "name": "stderr",
          "output_type": "stream",
          "text": [
            "Epoch 61 of 100: 100%|██████████████████████████| 80/80 [01:26<00:00,  1.08s/it]\n"
          ]
        },
        {
          "name": "stdout",
          "output_type": "stream",
          "text": [
            "Epoch: 61 | Loss: tensor(31.6376, device='cuda:0', grad_fn=<AddBackward0>)\n",
            "\n"
          ]
        },
        {
          "name": "stderr",
          "output_type": "stream",
          "text": [
            "Epoch 62 of 100: 100%|██████████████████████████| 80/80 [01:26<00:00,  1.08s/it]\n"
          ]
        },
        {
          "name": "stdout",
          "output_type": "stream",
          "text": [
            "Epoch: 62 | Loss: tensor(28.9829, device='cuda:0', grad_fn=<AddBackward0>)\n",
            "\n"
          ]
        },
        {
          "name": "stderr",
          "output_type": "stream",
          "text": [
            "Epoch 63 of 100: 100%|██████████████████████████| 80/80 [01:26<00:00,  1.08s/it]\n"
          ]
        },
        {
          "name": "stdout",
          "output_type": "stream",
          "text": [
            "Epoch: 63 | Loss: tensor(28.7827, device='cuda:0', grad_fn=<AddBackward0>)\n",
            "\n"
          ]
        },
        {
          "name": "stderr",
          "output_type": "stream",
          "text": [
            "Epoch 64 of 100: 100%|██████████████████████████| 80/80 [01:27<00:00,  1.09s/it]\n"
          ]
        },
        {
          "name": "stdout",
          "output_type": "stream",
          "text": [
            "Epoch: 64 | Loss: tensor(28.3466, device='cuda:0', grad_fn=<AddBackward0>)\n",
            "\n"
          ]
        },
        {
          "name": "stderr",
          "output_type": "stream",
          "text": [
            "Epoch 65 of 100: 100%|██████████████████████████| 80/80 [01:26<00:00,  1.08s/it]\n"
          ]
        },
        {
          "name": "stdout",
          "output_type": "stream",
          "text": [
            "Epoch: 65 | Loss: tensor(27.8424, device='cuda:0', grad_fn=<AddBackward0>)\n",
            "\n"
          ]
        },
        {
          "name": "stderr",
          "output_type": "stream",
          "text": [
            "Epoch 66 of 100: 100%|██████████████████████████| 80/80 [01:26<00:00,  1.08s/it]\n"
          ]
        },
        {
          "name": "stdout",
          "output_type": "stream",
          "text": [
            "Epoch: 66 | Loss: tensor(27.3170, device='cuda:0', grad_fn=<AddBackward0>)\n",
            "\n"
          ]
        },
        {
          "name": "stderr",
          "output_type": "stream",
          "text": [
            "Epoch 67 of 100: 100%|██████████████████████████| 80/80 [01:26<00:00,  1.09s/it]\n"
          ]
        },
        {
          "name": "stdout",
          "output_type": "stream",
          "text": [
            "Epoch: 67 | Loss: tensor(27.4045, device='cuda:0', grad_fn=<AddBackward0>)\n",
            "\n"
          ]
        },
        {
          "name": "stderr",
          "output_type": "stream",
          "text": [
            "Epoch 68 of 100: 100%|██████████████████████████| 80/80 [01:26<00:00,  1.09s/it]\n"
          ]
        },
        {
          "name": "stdout",
          "output_type": "stream",
          "text": [
            "Epoch: 68 | Loss: tensor(27.2678, device='cuda:0', grad_fn=<AddBackward0>)\n",
            "\n"
          ]
        },
        {
          "name": "stderr",
          "output_type": "stream",
          "text": [
            "Epoch 69 of 100: 100%|██████████████████████████| 80/80 [01:26<00:00,  1.08s/it]\n"
          ]
        },
        {
          "name": "stdout",
          "output_type": "stream",
          "text": [
            "Epoch: 69 | Loss: tensor(25.9704, device='cuda:0', grad_fn=<AddBackward0>)\n",
            "\n"
          ]
        },
        {
          "name": "stderr",
          "output_type": "stream",
          "text": [
            "Epoch 70 of 100: 100%|██████████████████████████| 80/80 [01:26<00:00,  1.08s/it]\n"
          ]
        },
        {
          "name": "stdout",
          "output_type": "stream",
          "text": [
            "Epoch: 70 | Loss: tensor(27.4664, device='cuda:0', grad_fn=<AddBackward0>)\n",
            "\n"
          ]
        },
        {
          "name": "stderr",
          "output_type": "stream",
          "text": [
            "Epoch 71 of 100: 100%|██████████████████████████| 80/80 [01:26<00:00,  1.08s/it]\n"
          ]
        },
        {
          "name": "stdout",
          "output_type": "stream",
          "text": [
            "Epoch: 71 | Loss: tensor(25.8461, device='cuda:0', grad_fn=<AddBackward0>)\n",
            "\n"
          ]
        },
        {
          "name": "stderr",
          "output_type": "stream",
          "text": [
            "Epoch 72 of 100: 100%|██████████████████████████| 80/80 [01:26<00:00,  1.08s/it]\n"
          ]
        },
        {
          "name": "stdout",
          "output_type": "stream",
          "text": [
            "Epoch: 72 | Loss: tensor(25.4054, device='cuda:0', grad_fn=<AddBackward0>)\n",
            "\n"
          ]
        },
        {
          "name": "stderr",
          "output_type": "stream",
          "text": [
            "Epoch 73 of 100: 100%|██████████████████████████| 80/80 [01:26<00:00,  1.09s/it]\n"
          ]
        },
        {
          "name": "stdout",
          "output_type": "stream",
          "text": [
            "Epoch: 73 | Loss: tensor(26.0668, device='cuda:0', grad_fn=<AddBackward0>)\n",
            "\n"
          ]
        },
        {
          "name": "stderr",
          "output_type": "stream",
          "text": [
            "Epoch 74 of 100: 100%|██████████████████████████| 80/80 [01:25<00:00,  1.07s/it]\n"
          ]
        },
        {
          "name": "stdout",
          "output_type": "stream",
          "text": [
            "Epoch: 74 | Loss: tensor(26.7809, device='cuda:0', grad_fn=<AddBackward0>)\n",
            "\n"
          ]
        },
        {
          "name": "stderr",
          "output_type": "stream",
          "text": [
            "Epoch 75 of 100: 100%|██████████████████████████| 80/80 [01:26<00:00,  1.08s/it]\n"
          ]
        },
        {
          "name": "stdout",
          "output_type": "stream",
          "text": [
            "Epoch: 75 | Loss: tensor(27.2192, device='cuda:0', grad_fn=<AddBackward0>)\n",
            "\n"
          ]
        },
        {
          "name": "stderr",
          "output_type": "stream",
          "text": [
            "Epoch 76 of 100: 100%|██████████████████████████| 80/80 [01:25<00:00,  1.07s/it]\n"
          ]
        },
        {
          "name": "stdout",
          "output_type": "stream",
          "text": [
            "Epoch: 76 | Loss: tensor(24.3777, device='cuda:0', grad_fn=<AddBackward0>)\n",
            "\n"
          ]
        },
        {
          "name": "stderr",
          "output_type": "stream",
          "text": [
            "Epoch 77 of 100: 100%|██████████████████████████| 80/80 [01:26<00:00,  1.08s/it]\n"
          ]
        },
        {
          "name": "stdout",
          "output_type": "stream",
          "text": [
            "Epoch: 77 | Loss: tensor(24.8446, device='cuda:0', grad_fn=<AddBackward0>)\n",
            "\n"
          ]
        },
        {
          "name": "stderr",
          "output_type": "stream",
          "text": [
            "Epoch 78 of 100: 100%|██████████████████████████| 80/80 [01:26<00:00,  1.08s/it]\n"
          ]
        },
        {
          "name": "stdout",
          "output_type": "stream",
          "text": [
            "Epoch: 78 | Loss: tensor(24.9493, device='cuda:0', grad_fn=<AddBackward0>)\n",
            "\n"
          ]
        },
        {
          "name": "stderr",
          "output_type": "stream",
          "text": [
            "Epoch 79 of 100: 100%|██████████████████████████| 80/80 [01:27<00:00,  1.09s/it]\n"
          ]
        },
        {
          "name": "stdout",
          "output_type": "stream",
          "text": [
            "Epoch: 79 | Loss: tensor(25.2012, device='cuda:0', grad_fn=<AddBackward0>)\n",
            "\n"
          ]
        },
        {
          "name": "stderr",
          "output_type": "stream",
          "text": [
            "Epoch 80 of 100: 100%|██████████████████████████| 80/80 [01:26<00:00,  1.08s/it]\n"
          ]
        },
        {
          "name": "stdout",
          "output_type": "stream",
          "text": [
            "Epoch: 80 | Loss: tensor(26.4758, device='cuda:0', grad_fn=<AddBackward0>)\n",
            "\n"
          ]
        },
        {
          "name": "stderr",
          "output_type": "stream",
          "text": [
            "Epoch 81 of 100: 100%|██████████████████████████| 80/80 [01:26<00:00,  1.09s/it]\n"
          ]
        },
        {
          "name": "stdout",
          "output_type": "stream",
          "text": [
            "Epoch: 81 | Loss: tensor(25.4051, device='cuda:0', grad_fn=<AddBackward0>)\n",
            "\n"
          ]
        },
        {
          "name": "stderr",
          "output_type": "stream",
          "text": [
            "Epoch 82 of 100: 100%|██████████████████████████| 80/80 [01:26<00:00,  1.08s/it]\n"
          ]
        },
        {
          "name": "stdout",
          "output_type": "stream",
          "text": [
            "Epoch: 82 | Loss: tensor(25.3364, device='cuda:0', grad_fn=<AddBackward0>)\n",
            "\n"
          ]
        },
        {
          "name": "stderr",
          "output_type": "stream",
          "text": [
            "Epoch 83 of 100: 100%|██████████████████████████| 80/80 [01:26<00:00,  1.08s/it]\n"
          ]
        },
        {
          "name": "stdout",
          "output_type": "stream",
          "text": [
            "Epoch: 83 | Loss: tensor(23.9702, device='cuda:0', grad_fn=<AddBackward0>)\n",
            "\n"
          ]
        },
        {
          "name": "stderr",
          "output_type": "stream",
          "text": [
            "Epoch 84 of 100: 100%|██████████████████████████| 80/80 [01:26<00:00,  1.09s/it]\n"
          ]
        },
        {
          "name": "stdout",
          "output_type": "stream",
          "text": [
            "Epoch: 84 | Loss: tensor(24.8744, device='cuda:0', grad_fn=<AddBackward0>)\n",
            "\n"
          ]
        },
        {
          "name": "stderr",
          "output_type": "stream",
          "text": [
            "Epoch 85 of 100: 100%|██████████████████████████| 80/80 [01:26<00:00,  1.08s/it]\n"
          ]
        },
        {
          "name": "stdout",
          "output_type": "stream",
          "text": [
            "Epoch: 85 | Loss: tensor(23.1114, device='cuda:0', grad_fn=<AddBackward0>)\n",
            "\n"
          ]
        },
        {
          "name": "stderr",
          "output_type": "stream",
          "text": [
            "Epoch 86 of 100: 100%|██████████████████████████| 80/80 [01:26<00:00,  1.08s/it]\n"
          ]
        },
        {
          "name": "stdout",
          "output_type": "stream",
          "text": [
            "Epoch: 86 | Loss: tensor(23.6429, device='cuda:0', grad_fn=<AddBackward0>)\n",
            "\n"
          ]
        },
        {
          "name": "stderr",
          "output_type": "stream",
          "text": [
            "Epoch 87 of 100: 100%|██████████████████████████| 80/80 [01:26<00:00,  1.08s/it]\n"
          ]
        },
        {
          "name": "stdout",
          "output_type": "stream",
          "text": [
            "Epoch: 87 | Loss: tensor(23.4712, device='cuda:0', grad_fn=<AddBackward0>)\n",
            "\n"
          ]
        },
        {
          "name": "stderr",
          "output_type": "stream",
          "text": [
            "Epoch 88 of 100: 100%|██████████████████████████| 80/80 [01:27<00:00,  1.10s/it]\n"
          ]
        },
        {
          "name": "stdout",
          "output_type": "stream",
          "text": [
            "Epoch: 88 | Loss: tensor(22.9451, device='cuda:0', grad_fn=<AddBackward0>)\n",
            "\n"
          ]
        },
        {
          "name": "stderr",
          "output_type": "stream",
          "text": [
            "Epoch 89 of 100: 100%|██████████████████████████| 80/80 [01:26<00:00,  1.08s/it]\n"
          ]
        },
        {
          "name": "stdout",
          "output_type": "stream",
          "text": [
            "Epoch: 89 | Loss: tensor(24.9735, device='cuda:0', grad_fn=<AddBackward0>)\n",
            "\n"
          ]
        },
        {
          "name": "stderr",
          "output_type": "stream",
          "text": [
            "Epoch 90 of 100: 100%|██████████████████████████| 80/80 [01:26<00:00,  1.08s/it]\n"
          ]
        },
        {
          "name": "stdout",
          "output_type": "stream",
          "text": [
            "Epoch: 90 | Loss: tensor(22.3457, device='cuda:0', grad_fn=<AddBackward0>)\n",
            "\n"
          ]
        },
        {
          "name": "stderr",
          "output_type": "stream",
          "text": [
            "Epoch 91 of 100: 100%|██████████████████████████| 80/80 [01:27<00:00,  1.09s/it]\n"
          ]
        },
        {
          "name": "stdout",
          "output_type": "stream",
          "text": [
            "Epoch: 91 | Loss: tensor(23.4149, device='cuda:0', grad_fn=<AddBackward0>)\n",
            "\n"
          ]
        },
        {
          "name": "stderr",
          "output_type": "stream",
          "text": [
            "Epoch 92 of 100: 100%|██████████████████████████| 80/80 [01:27<00:00,  1.09s/it]\n"
          ]
        },
        {
          "name": "stdout",
          "output_type": "stream",
          "text": [
            "Epoch: 92 | Loss: tensor(23.9241, device='cuda:0', grad_fn=<AddBackward0>)\n",
            "\n"
          ]
        },
        {
          "name": "stderr",
          "output_type": "stream",
          "text": [
            "Epoch 93 of 100: 100%|██████████████████████████| 80/80 [01:26<00:00,  1.08s/it]\n"
          ]
        },
        {
          "name": "stdout",
          "output_type": "stream",
          "text": [
            "Epoch: 93 | Loss: tensor(24.6848, device='cuda:0', grad_fn=<AddBackward0>)\n",
            "\n"
          ]
        },
        {
          "name": "stderr",
          "output_type": "stream",
          "text": [
            "Epoch 94 of 100: 100%|██████████████████████████| 80/80 [01:26<00:00,  1.08s/it]\n"
          ]
        },
        {
          "name": "stdout",
          "output_type": "stream",
          "text": [
            "Epoch: 94 | Loss: tensor(22.5492, device='cuda:0', grad_fn=<AddBackward0>)\n",
            "\n"
          ]
        },
        {
          "name": "stderr",
          "output_type": "stream",
          "text": [
            "Epoch 95 of 100: 100%|██████████████████████████| 80/80 [01:26<00:00,  1.08s/it]\n"
          ]
        },
        {
          "name": "stdout",
          "output_type": "stream",
          "text": [
            "Epoch: 95 | Loss: tensor(22.0664, device='cuda:0', grad_fn=<AddBackward0>)\n",
            "\n"
          ]
        },
        {
          "name": "stderr",
          "output_type": "stream",
          "text": [
            "Epoch 96 of 100: 100%|██████████████████████████| 80/80 [01:26<00:00,  1.08s/it]\n"
          ]
        },
        {
          "name": "stdout",
          "output_type": "stream",
          "text": [
            "Epoch: 96 | Loss: tensor(21.0061, device='cuda:0', grad_fn=<AddBackward0>)\n",
            "\n"
          ]
        },
        {
          "name": "stderr",
          "output_type": "stream",
          "text": [
            "Epoch 97 of 100: 100%|██████████████████████████| 80/80 [01:25<00:00,  1.07s/it]\n"
          ]
        },
        {
          "name": "stdout",
          "output_type": "stream",
          "text": [
            "Epoch: 97 | Loss: tensor(21.3666, device='cuda:0', grad_fn=<AddBackward0>)\n",
            "\n"
          ]
        },
        {
          "name": "stderr",
          "output_type": "stream",
          "text": [
            "Epoch 98 of 100: 100%|██████████████████████████| 80/80 [01:26<00:00,  1.08s/it]\n"
          ]
        },
        {
          "name": "stdout",
          "output_type": "stream",
          "text": [
            "Epoch: 98 | Loss: tensor(22.5114, device='cuda:0', grad_fn=<AddBackward0>)\n",
            "\n"
          ]
        },
        {
          "name": "stderr",
          "output_type": "stream",
          "text": [
            "Epoch 99 of 100: 100%|██████████████████████████| 80/80 [01:26<00:00,  1.08s/it]\n"
          ]
        },
        {
          "name": "stdout",
          "output_type": "stream",
          "text": [
            "Epoch: 99 | Loss: tensor(21.5243, device='cuda:0', grad_fn=<AddBackward0>)\n",
            "\n"
          ]
        },
        {
          "name": "stderr",
          "output_type": "stream",
          "text": [
            "Epoch 100 of 100: 100%|█████████████████████████| 80/80 [01:25<00:00,  1.07s/it]"
          ]
        },
        {
          "name": "stdout",
          "output_type": "stream",
          "text": [
            "Epoch: 100 | Loss: tensor(21.9734, device='cuda:0', grad_fn=<AddBackward0>)\n",
            "\n"
          ]
        },
        {
          "name": "stderr",
          "output_type": "stream",
          "text": [
            "\n"
          ]
        }
      ],
      "source": [
        "# Train the model.\n",
        "\n",
        "NUM_EPOCH = 100\n",
        "def test_train_model():\n",
        "    ''' Test train_model() '''\n",
        "    train_model(MODEL_OPTIM['faster rcnn'][0], \n",
        "                          MODEL_OPTIM['faster rcnn'][1], \n",
        "                          DATALOADERS['trainset'], \n",
        "                          DATALOADERS['testset'], \n",
        "                          NUM_EPOCH, DEVICE)\n",
        "\n",
        "test_train_model()"
      ]
    },
    {
      "cell_type": "code",
      "execution_count": null,
      "metadata": {
        "id": "OBTOoCfA6w4M"
      },
      "outputs": [],
      "source": []
    }
  ],
  "metadata": {
    "accelerator": "GPU",
    "colab": {
      "provenance": [],
      "toc_visible": true
    },
    "gpuClass": "premium",
    "kernelspec": {
      "display_name": "audubon",
      "language": "python",
      "name": "python3"
    },
    "language_info": {
      "codemirror_mode": {
        "name": "ipython",
        "version": 3
      },
      "file_extension": ".py",
      "mimetype": "text/x-python",
      "name": "python",
      "nbconvert_exporter": "python",
      "pygments_lexer": "ipython3",
      "version": "3.8.16"
    },
    "vscode": {
      "interpreter": {
        "hash": "46beb778c8128495c73591d54954c8f1640826ad496c7f102ebbefec3a7b29b4"
      }
    },
    "widgets": {
      "application/vnd.jupyter.widget-state+json": {
        "0bc25990c1b642aa8f30aeefdcac322a": {
          "model_module": "@jupyter-widgets/base",
          "model_module_version": "1.2.0",
          "model_name": "LayoutModel",
          "state": {
            "_model_module": "@jupyter-widgets/base",
            "_model_module_version": "1.2.0",
            "_model_name": "LayoutModel",
            "_view_count": null,
            "_view_module": "@jupyter-widgets/base",
            "_view_module_version": "1.2.0",
            "_view_name": "LayoutView",
            "align_content": null,
            "align_items": null,
            "align_self": null,
            "border": null,
            "bottom": null,
            "display": null,
            "flex": null,
            "flex_flow": null,
            "grid_area": null,
            "grid_auto_columns": null,
            "grid_auto_flow": null,
            "grid_auto_rows": null,
            "grid_column": null,
            "grid_gap": null,
            "grid_row": null,
            "grid_template_areas": null,
            "grid_template_columns": null,
            "grid_template_rows": null,
            "height": null,
            "justify_content": null,
            "justify_items": null,
            "left": null,
            "margin": null,
            "max_height": null,
            "max_width": null,
            "min_height": null,
            "min_width": null,
            "object_fit": null,
            "object_position": null,
            "order": null,
            "overflow": null,
            "overflow_x": null,
            "overflow_y": null,
            "padding": null,
            "right": null,
            "top": null,
            "visibility": null,
            "width": null
          }
        },
        "2d0249c0e4cc48dc96ec080f812f68c8": {
          "model_module": "@jupyter-widgets/controls",
          "model_module_version": "1.5.0",
          "model_name": "DescriptionStyleModel",
          "state": {
            "_model_module": "@jupyter-widgets/controls",
            "_model_module_version": "1.5.0",
            "_model_name": "DescriptionStyleModel",
            "_view_count": null,
            "_view_module": "@jupyter-widgets/base",
            "_view_module_version": "1.2.0",
            "_view_name": "StyleView",
            "description_width": ""
          }
        },
        "44669c0bf6504272bdcf8973deca4e85": {
          "model_module": "@jupyter-widgets/controls",
          "model_module_version": "1.5.0",
          "model_name": "ProgressStyleModel",
          "state": {
            "_model_module": "@jupyter-widgets/controls",
            "_model_module_version": "1.5.0",
            "_model_name": "ProgressStyleModel",
            "_view_count": null,
            "_view_module": "@jupyter-widgets/base",
            "_view_module_version": "1.2.0",
            "_view_name": "StyleView",
            "bar_color": null,
            "description_width": ""
          }
        },
        "5f28e3e7357b49fbbfad4bdf45c4b4fb": {
          "model_module": "@jupyter-widgets/controls",
          "model_module_version": "1.5.0",
          "model_name": "FloatProgressModel",
          "state": {
            "_dom_classes": [],
            "_model_module": "@jupyter-widgets/controls",
            "_model_module_version": "1.5.0",
            "_model_name": "FloatProgressModel",
            "_view_count": null,
            "_view_module": "@jupyter-widgets/controls",
            "_view_module_version": "1.5.0",
            "_view_name": "ProgressView",
            "bar_style": "success",
            "description": "",
            "description_tooltip": null,
            "layout": "IPY_MODEL_0bc25990c1b642aa8f30aeefdcac322a",
            "max": 167502836,
            "min": 0,
            "orientation": "horizontal",
            "style": "IPY_MODEL_44669c0bf6504272bdcf8973deca4e85",
            "value": 167502836
          }
        },
        "8b277bcc044e421b9cd5e92e3bcd464a": {
          "model_module": "@jupyter-widgets/controls",
          "model_module_version": "1.5.0",
          "model_name": "HBoxModel",
          "state": {
            "_dom_classes": [],
            "_model_module": "@jupyter-widgets/controls",
            "_model_module_version": "1.5.0",
            "_model_name": "HBoxModel",
            "_view_count": null,
            "_view_module": "@jupyter-widgets/controls",
            "_view_module_version": "1.5.0",
            "_view_name": "HBoxView",
            "box_style": "",
            "children": [
              "IPY_MODEL_c9303f12d45f44f7bb763b4f5d6637bf",
              "IPY_MODEL_5f28e3e7357b49fbbfad4bdf45c4b4fb",
              "IPY_MODEL_fd3fd056643648c68f60e0ffc42fcb30"
            ],
            "layout": "IPY_MODEL_951168f4571b4ea4ba990609c690df12"
          }
        },
        "951168f4571b4ea4ba990609c690df12": {
          "model_module": "@jupyter-widgets/base",
          "model_module_version": "1.2.0",
          "model_name": "LayoutModel",
          "state": {
            "_model_module": "@jupyter-widgets/base",
            "_model_module_version": "1.2.0",
            "_model_name": "LayoutModel",
            "_view_count": null,
            "_view_module": "@jupyter-widgets/base",
            "_view_module_version": "1.2.0",
            "_view_name": "LayoutView",
            "align_content": null,
            "align_items": null,
            "align_self": null,
            "border": null,
            "bottom": null,
            "display": null,
            "flex": null,
            "flex_flow": null,
            "grid_area": null,
            "grid_auto_columns": null,
            "grid_auto_flow": null,
            "grid_auto_rows": null,
            "grid_column": null,
            "grid_gap": null,
            "grid_row": null,
            "grid_template_areas": null,
            "grid_template_columns": null,
            "grid_template_rows": null,
            "height": null,
            "justify_content": null,
            "justify_items": null,
            "left": null,
            "margin": null,
            "max_height": null,
            "max_width": null,
            "min_height": null,
            "min_width": null,
            "object_fit": null,
            "object_position": null,
            "order": null,
            "overflow": null,
            "overflow_x": null,
            "overflow_y": null,
            "padding": null,
            "right": null,
            "top": null,
            "visibility": null,
            "width": null
          }
        },
        "a1cfb46b0ae14e6391d6ca60a52d103e": {
          "model_module": "@jupyter-widgets/controls",
          "model_module_version": "1.5.0",
          "model_name": "DescriptionStyleModel",
          "state": {
            "_model_module": "@jupyter-widgets/controls",
            "_model_module_version": "1.5.0",
            "_model_name": "DescriptionStyleModel",
            "_view_count": null,
            "_view_module": "@jupyter-widgets/base",
            "_view_module_version": "1.2.0",
            "_view_name": "StyleView",
            "description_width": ""
          }
        },
        "a48be4b59ab44bf9822dfc46389d8164": {
          "model_module": "@jupyter-widgets/base",
          "model_module_version": "1.2.0",
          "model_name": "LayoutModel",
          "state": {
            "_model_module": "@jupyter-widgets/base",
            "_model_module_version": "1.2.0",
            "_model_name": "LayoutModel",
            "_view_count": null,
            "_view_module": "@jupyter-widgets/base",
            "_view_module_version": "1.2.0",
            "_view_name": "LayoutView",
            "align_content": null,
            "align_items": null,
            "align_self": null,
            "border": null,
            "bottom": null,
            "display": null,
            "flex": null,
            "flex_flow": null,
            "grid_area": null,
            "grid_auto_columns": null,
            "grid_auto_flow": null,
            "grid_auto_rows": null,
            "grid_column": null,
            "grid_gap": null,
            "grid_row": null,
            "grid_template_areas": null,
            "grid_template_columns": null,
            "grid_template_rows": null,
            "height": null,
            "justify_content": null,
            "justify_items": null,
            "left": null,
            "margin": null,
            "max_height": null,
            "max_width": null,
            "min_height": null,
            "min_width": null,
            "object_fit": null,
            "object_position": null,
            "order": null,
            "overflow": null,
            "overflow_x": null,
            "overflow_y": null,
            "padding": null,
            "right": null,
            "top": null,
            "visibility": null,
            "width": null
          }
        },
        "b4ccbafd25ec4409b3bb22c8c6006cbc": {
          "model_module": "@jupyter-widgets/base",
          "model_module_version": "1.2.0",
          "model_name": "LayoutModel",
          "state": {
            "_model_module": "@jupyter-widgets/base",
            "_model_module_version": "1.2.0",
            "_model_name": "LayoutModel",
            "_view_count": null,
            "_view_module": "@jupyter-widgets/base",
            "_view_module_version": "1.2.0",
            "_view_name": "LayoutView",
            "align_content": null,
            "align_items": null,
            "align_self": null,
            "border": null,
            "bottom": null,
            "display": null,
            "flex": null,
            "flex_flow": null,
            "grid_area": null,
            "grid_auto_columns": null,
            "grid_auto_flow": null,
            "grid_auto_rows": null,
            "grid_column": null,
            "grid_gap": null,
            "grid_row": null,
            "grid_template_areas": null,
            "grid_template_columns": null,
            "grid_template_rows": null,
            "height": null,
            "justify_content": null,
            "justify_items": null,
            "left": null,
            "margin": null,
            "max_height": null,
            "max_width": null,
            "min_height": null,
            "min_width": null,
            "object_fit": null,
            "object_position": null,
            "order": null,
            "overflow": null,
            "overflow_x": null,
            "overflow_y": null,
            "padding": null,
            "right": null,
            "top": null,
            "visibility": null,
            "width": null
          }
        },
        "c9303f12d45f44f7bb763b4f5d6637bf": {
          "model_module": "@jupyter-widgets/controls",
          "model_module_version": "1.5.0",
          "model_name": "HTMLModel",
          "state": {
            "_dom_classes": [],
            "_model_module": "@jupyter-widgets/controls",
            "_model_module_version": "1.5.0",
            "_model_name": "HTMLModel",
            "_view_count": null,
            "_view_module": "@jupyter-widgets/controls",
            "_view_module_version": "1.5.0",
            "_view_name": "HTMLView",
            "description": "",
            "description_tooltip": null,
            "layout": "IPY_MODEL_a48be4b59ab44bf9822dfc46389d8164",
            "placeholder": "​",
            "style": "IPY_MODEL_a1cfb46b0ae14e6391d6ca60a52d103e",
            "value": "100%"
          }
        },
        "fd3fd056643648c68f60e0ffc42fcb30": {
          "model_module": "@jupyter-widgets/controls",
          "model_module_version": "1.5.0",
          "model_name": "HTMLModel",
          "state": {
            "_dom_classes": [],
            "_model_module": "@jupyter-widgets/controls",
            "_model_module_version": "1.5.0",
            "_model_name": "HTMLModel",
            "_view_count": null,
            "_view_module": "@jupyter-widgets/controls",
            "_view_module_version": "1.5.0",
            "_view_name": "HTMLView",
            "description": "",
            "description_tooltip": null,
            "layout": "IPY_MODEL_b4ccbafd25ec4409b3bb22c8c6006cbc",
            "placeholder": "​",
            "style": "IPY_MODEL_2d0249c0e4cc48dc96ec080f812f68c8",
            "value": " 160M/160M [00:02&lt;00:00, 65.6MB/s]"
          }
        }
      }
    }
  },
  "nbformat": 4,
  "nbformat_minor": 0
}
