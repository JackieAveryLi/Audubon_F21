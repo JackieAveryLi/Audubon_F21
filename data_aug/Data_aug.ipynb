{
  "cells": [
    {
      "cell_type": "markdown",
      "metadata": {
        "id": "zxrWNOtKFwJ-"
      },
      "source": [
        "## 1. Set up"
      ]
    },
    {
      "cell_type": "code",
      "execution_count": null,
      "metadata": {
        "id": "jo-KdZzmi51-"
      },
      "outputs": [],
      "source": [
        "# Import useful libraries\n",
        "import os, sys, shutil, glob\n",
        "import numpy as np\n",
        "import matplotlib.pyplot as plt \n",
        "import pandas as pd \n",
        "from tqdm import tqdm\n",
        "from PIL import Image \n",
        "from torchvision import transforms\n",
        "\n"
      ]
    },
    {
      "cell_type": "code",
      "execution_count": null,
      "metadata": {
        "id": "lyKcvj_zjBql"
      },
      "outputs": [],
      "source": [
        "# This cell only excecutes if you're running on Colab. \n",
        "if 'google.colab' in sys.modules:\n",
        "  from google.colab import drive \n",
        "  drive.mount('/content/drive') # Mount Google Drive! \n",
        "\n",
        "  # Clone Audubon bird detection Github repo \n",
        "  !git clone -b SP22 https://github.com/RiceD2KLab/Audubon_F21.git"
      ]
    },
    {
      "cell_type": "markdown",
      "metadata": {
        "id": "p1SOUNL7GMfu"
      },
      "source": [
        "# 2. Load Image data"
      ]
    },
    {
      "cell_type": "code",
      "execution_count": null,
      "metadata": {
        "id": "s_G3-GZbjIuX"
      },
      "outputs": [],
      "source": [
        "# upgrade gdown to solve random downloading access denial error\n",
        "!pip install --upgrade --no-cache-dir gdown   \n",
        "!mkdir -p './data/raw'\n",
        "!gdown -q https://drive.google.com/uc?id=1zhB6_MLtvD0JCoyKYqhUx497WIvSYVUk\n",
        "!unzip -q './1017_1.zip' -d './data/raw'\n",
        "!gdown -q https://drive.google.com/uc?id=1clRsR5zg60FYjQ-crGx8CN88yPsUgVse\n",
        "!unzip -q './1017_2.zip' -d './data/raw'\n",
        "!gdown -q https://drive.google.com/uc?id=1fC4xAZJFoEccrgBhvjLMGpzLVXEcfHm6\n",
        "!unzip -q './annotation_1017.zip' -d './data/raw'"
      ]
    },
    {
      "cell_type": "markdown",
      "metadata": {
        "id": "X02vt1JLG7Ss"
      },
      "source": [
        "#3. Augmentation"
      ]
    },
    {
      "cell_type": "code",
      "source": [
        "from Audubon_F21.data_aug.functions import dataset_aug"
      ],
      "metadata": {
        "id": "R9e5EH-CU4QT"
      },
      "execution_count": 7,
      "outputs": []
    },
    {
      "cell_type": "code",
      "source": [
        "# input_dir is the path that contains both images and annotations (image: jpg; annotation: csv or bbx)\n",
        "input_dir = './data/raw' \n",
        "# output dir is the path where you want to output new files. Please use the folder you defined above.\n",
        "!mkdir -p './data/cropped'\n",
        "output_dir = './data/cropped'\n",
        "#!mkdir -p '/content/drive/My Drive/Audubon/aug_data'\n",
        "#output_dir ='/content/drive/My Drive/Audubon/aug_data'\n",
        "\n",
        "# Tile size\n",
        "crop_height = crop_width = 640\n",
        "\n",
        "# List of species that we want to augment\n",
        "minor_species = [\"Great Egret/White Morph Adult\", \"Tri-Colored Heron Adult\", \"Roseate Spoonbill Adult\", \"Black Crowned Night Heron Adult\"]\n",
        "\n",
        "# Minimum portion of a bounding box being accepted in a subimage\n",
        "overlap = 0.2\n",
        "\n",
        "# Maximum portion of non-minor creatures existing in a subimage\n",
        "thres = 0.3\n",
        "\n",
        "# Choose augmentation methods\n",
        "# [horizontal filp, vertical flip, left rotate, right rotate, [brightness/contrast tunning, number of images produced]]\n",
        "# for example, aug_command = [1,0,1,0,[1,5]] means we are doing horizontal flip, left 90 degrees rotation,\n",
        "# and random brightness/contrast tunning for 5 times\n",
        "aug_command = [1,0,1,0,[1,5]]\n",
        "\n"
      ],
      "metadata": {
        "id": "Om2XhhX2pjFh"
      },
      "execution_count": 16,
      "outputs": []
    },
    {
      "cell_type": "code",
      "source": [
        "dataset_aug(input_dir, output_dir, minor_species, overlap, thres, aug_command)"
      ],
      "metadata": {
        "id": "pFM1x7vBaGUR"
      },
      "execution_count": null,
      "outputs": []
    },
    {
      "cell_type": "code",
      "source": [
        "# Check number of output files\n",
        "print (len([name for name in os.listdir(output_dir) if os.path.isfile(os.path.join(output_dir, name))]))"
      ],
      "metadata": {
        "id": "CB9VHPeVdEdk"
      },
      "execution_count": null,
      "outputs": []
    },
    {
      "cell_type": "code",
      "source": [
        "# Delete output folder\n",
        "shutil.rmtree(output_dir)"
      ],
      "metadata": {
        "id": "puoaqgZTcK5X"
      },
      "execution_count": null,
      "outputs": []
    }
  ],
  "metadata": {
    "colab": {
      "collapsed_sections": [],
      "name": "Data_aug.ipynb",
      "provenance": []
    },
    "kernelspec": {
      "display_name": "Python 3",
      "name": "python3"
    },
    "language_info": {
      "name": "python"
    }
  },
  "nbformat": 4,
  "nbformat_minor": 0
}